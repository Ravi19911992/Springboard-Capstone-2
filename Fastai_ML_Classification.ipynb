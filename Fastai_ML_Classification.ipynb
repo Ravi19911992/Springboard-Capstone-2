{
  "nbformat": 4,
  "nbformat_minor": 0,
  "metadata": {
    "colab": {
      "name": "Fastai_ML_Classification.ipynb",
      "provenance": [],
      "authorship_tag": "ABX9TyMWbQ85zbAX+NqbAMut8Qd+",
      "include_colab_link": true
    },
    "kernelspec": {
      "name": "python3",
      "display_name": "Python 3"
    },
    "accelerator": "GPU"
  },
  "cells": [
    {
      "cell_type": "markdown",
      "metadata": {
        "id": "view-in-github",
        "colab_type": "text"
      },
      "source": [
        "<a href=\"https://colab.research.google.com/github/Ravi19911992/Springboard-Capstone-2/blob/master/Fastai_ML_Classification.ipynb\" target=\"_parent\"><img src=\"https://colab.research.google.com/assets/colab-badge.svg\" alt=\"Open In Colab\"/></a>"
      ]
    },
    {
      "cell_type": "code",
      "metadata": {
        "id": "dr3lCK_aQZIo",
        "colab_type": "code",
        "colab": {}
      },
      "source": [
        "from fastai import *\n",
        "from fastai.text import *\n",
        "import pandas as pd"
      ],
      "execution_count": 0,
      "outputs": []
    },
    {
      "cell_type": "code",
      "metadata": {
        "id": "hk_lpIinQmfu",
        "colab_type": "code",
        "outputId": "435b9367-aaeb-4211-bbd1-945767b9dafc",
        "colab": {
          "base_uri": "https://localhost:8080/",
          "height": 204
        }
      },
      "source": [
        "#Loading the dataset from the final.csv file through read_csv\n",
        "df = pd.read_csv('final.csv', index_col=None)\n",
        "df.head()"
      ],
      "execution_count": 0,
      "outputs": [
        {
          "output_type": "execute_result",
          "data": {
            "text/html": [
              "<div>\n",
              "<style scoped>\n",
              "    .dataframe tbody tr th:only-of-type {\n",
              "        vertical-align: middle;\n",
              "    }\n",
              "\n",
              "    .dataframe tbody tr th {\n",
              "        vertical-align: top;\n",
              "    }\n",
              "\n",
              "    .dataframe thead th {\n",
              "        text-align: right;\n",
              "    }\n",
              "</style>\n",
              "<table border=\"1\" class=\"dataframe\">\n",
              "  <thead>\n",
              "    <tr style=\"text-align: right;\">\n",
              "      <th></th>\n",
              "      <th>gender</th>\n",
              "      <th>Tweets</th>\n",
              "      <th>Tweets_cleaned_lemmatized</th>\n",
              "    </tr>\n",
              "  </thead>\n",
              "  <tbody>\n",
              "    <tr>\n",
              "      <th>0</th>\n",
              "      <td>male</td>\n",
              "      <td>Robbie E Responds To Critics After Win Against...</td>\n",
              "      <td>robbie e responds critics win eddie edwards wo...</td>\n",
              "    </tr>\n",
              "    <tr>\n",
              "      <th>1</th>\n",
              "      <td>male</td>\n",
              "      <td>ÛÏIt felt like they were my friends and I was...</td>\n",
              "      <td>felt like friends living story arnge yhno reti...</td>\n",
              "    </tr>\n",
              "    <tr>\n",
              "      <th>2</th>\n",
              "      <td>male</td>\n",
              "      <td>Hi @JordanSpieth - Looking at the url - do you...</td>\n",
              "      <td>hi jordanspieth looking url use ifttt typicall...</td>\n",
              "    </tr>\n",
              "    <tr>\n",
              "      <th>3</th>\n",
              "      <td>female</td>\n",
              "      <td>Watching Neighbours on Sky+ catching up with t...</td>\n",
              "      <td>watching neighbours sky catching neighbs xxx r...</td>\n",
              "    </tr>\n",
              "    <tr>\n",
              "      <th>4</th>\n",
              "      <td>female</td>\n",
              "      <td>Ive seen people on the train with lamps, chair...</td>\n",
              "      <td>ive seen people train lamps chairs tvs etc w z...</td>\n",
              "    </tr>\n",
              "  </tbody>\n",
              "</table>\n",
              "</div>"
            ],
            "text/plain": [
              "   gender  ...                          Tweets_cleaned_lemmatized\n",
              "0    male  ...  robbie e responds critics win eddie edwards wo...\n",
              "1    male  ...  felt like friends living story arnge yhno reti...\n",
              "2    male  ...  hi jordanspieth looking url use ifttt typicall...\n",
              "3  female  ...  watching neighbours sky catching neighbs xxx r...\n",
              "4  female  ...  ive seen people train lamps chairs tvs etc w z...\n",
              "\n",
              "[5 rows x 3 columns]"
            ]
          },
          "metadata": {
            "tags": []
          },
          "execution_count": 2
        }
      ]
    },
    {
      "cell_type": "code",
      "metadata": {
        "id": "iTDl3LtUbOCt",
        "colab_type": "code",
        "colab": {}
      },
      "source": [
        "#copying the original DataFrame to another dataframe to work on our code.\n",
        "sub_df = df.copy()"
      ],
      "execution_count": 0,
      "outputs": []
    },
    {
      "cell_type": "code",
      "metadata": {
        "id": "Dv5kiS6mboI5",
        "colab_type": "code",
        "colab": {}
      },
      "source": [
        "sub_df.drop(columns=['Tweets_cleaned_lemmatized'], axis=1, inplace=True)"
      ],
      "execution_count": 0,
      "outputs": []
    },
    {
      "cell_type": "code",
      "metadata": {
        "id": "EBHFFTa_Cpm2",
        "colab_type": "code",
        "outputId": "2bb54737-3780-4fad-9b2e-e9602cc8a390",
        "colab": {
          "base_uri": "https://localhost:8080/",
          "height": 204
        }
      },
      "source": [
        "sub_df.rename(columns={'gender': 'label' , 'Tweets' : 'text'}, inplace=True)\n",
        "sub_df.head(5)"
      ],
      "execution_count": 0,
      "outputs": [
        {
          "output_type": "execute_result",
          "data": {
            "text/html": [
              "<div>\n",
              "<style scoped>\n",
              "    .dataframe tbody tr th:only-of-type {\n",
              "        vertical-align: middle;\n",
              "    }\n",
              "\n",
              "    .dataframe tbody tr th {\n",
              "        vertical-align: top;\n",
              "    }\n",
              "\n",
              "    .dataframe thead th {\n",
              "        text-align: right;\n",
              "    }\n",
              "</style>\n",
              "<table border=\"1\" class=\"dataframe\">\n",
              "  <thead>\n",
              "    <tr style=\"text-align: right;\">\n",
              "      <th></th>\n",
              "      <th>label</th>\n",
              "      <th>text</th>\n",
              "    </tr>\n",
              "  </thead>\n",
              "  <tbody>\n",
              "    <tr>\n",
              "      <th>0</th>\n",
              "      <td>male</td>\n",
              "      <td>Robbie E Responds To Critics After Win Against...</td>\n",
              "    </tr>\n",
              "    <tr>\n",
              "      <th>1</th>\n",
              "      <td>male</td>\n",
              "      <td>ÛÏIt felt like they were my friends and I was...</td>\n",
              "    </tr>\n",
              "    <tr>\n",
              "      <th>2</th>\n",
              "      <td>male</td>\n",
              "      <td>Hi @JordanSpieth - Looking at the url - do you...</td>\n",
              "    </tr>\n",
              "    <tr>\n",
              "      <th>3</th>\n",
              "      <td>female</td>\n",
              "      <td>Watching Neighbours on Sky+ catching up with t...</td>\n",
              "    </tr>\n",
              "    <tr>\n",
              "      <th>4</th>\n",
              "      <td>female</td>\n",
              "      <td>Ive seen people on the train with lamps, chair...</td>\n",
              "    </tr>\n",
              "  </tbody>\n",
              "</table>\n",
              "</div>"
            ],
            "text/plain": [
              "    label                                               text\n",
              "0    male  Robbie E Responds To Critics After Win Against...\n",
              "1    male  ÛÏIt felt like they were my friends and I was...\n",
              "2    male  Hi @JordanSpieth - Looking at the url - do you...\n",
              "3  female  Watching Neighbours on Sky+ catching up with t...\n",
              "4  female  Ive seen people on the train with lamps, chair..."
            ]
          },
          "metadata": {
            "tags": []
          },
          "execution_count": 5
        }
      ]
    },
    {
      "cell_type": "markdown",
      "metadata": {
        "id": "z1_FjjlZ5nHm",
        "colab_type": "text"
      },
      "source": [
        "Transfer learning is a machine learning technique where a model trained on one task is re-purposed on a second related task. It is the idea of overcoming the isolated learning paradigm and utilizing knowledge acquired for one task to solve related ones. Let us now see how this works."
      ]
    },
    {
      "cell_type": "code",
      "metadata": {
        "id": "iv5pnhHeEyXC",
        "colab_type": "code",
        "colab": {}
      },
      "source": [
        "# split data into training validation set\n",
        "from sklearn.model_selection import train_test_split\n",
        "\n",
        "sub_df_trn, sub_df_val = train_test_split(sub_df, stratify = sub_df['label'], test_size = 0.4, random_state = 12)"
      ],
      "execution_count": 0,
      "outputs": []
    },
    {
      "cell_type": "code",
      "metadata": {
        "id": "vvXTXUounu8C",
        "colab_type": "code",
        "outputId": "4a0f673d-736d-4e20-e6dc-8d442fdd7916",
        "colab": {
          "base_uri": "https://localhost:8080/",
          "height": 34
        }
      },
      "source": [
        "sub_df_trn.shape, sub_df_val.shape"
      ],
      "execution_count": 0,
      "outputs": [
        {
          "output_type": "execute_result",
          "data": {
            "text/plain": [
              "((8282, 2), (5522, 2))"
            ]
          },
          "metadata": {
            "tags": []
          },
          "execution_count": 7
        }
      ]
    },
    {
      "cell_type": "markdown",
      "metadata": {
        "id": "XarFHscq2HBY",
        "colab_type": "text"
      },
      "source": [
        "Here, we use TextLMDataBunch to get the data ready for a language model. This does all the necessary preprocessing behind the scene.We can create a learner object(language_model_learner) that will directly create a model, download the pretrained weights and be ready for fine-tuning. We can use the data_lm object we created earlier to fine-tune a pretrained language model."
      ]
    },
    {
      "cell_type": "code",
      "metadata": {
        "id": "0C7FbnwPoVOt",
        "colab_type": "code",
        "outputId": "6f4dfa9f-9807-4adf-e3be-ccc6821a731d",
        "colab": {
          "base_uri": "https://localhost:8080/",
          "height": 97
        }
      },
      "source": [
        "# Train language model\n",
        "data_lm = TextLMDataBunch.from_df(train_df = sub_df_trn, valid_df = sub_df_val, path = \"\")\n",
        "\n",
        "learn = language_model_learner(data_lm, AWD_LSTM, drop_mult=0.5)\n",
        "learn.fit_one_cycle(1, 1e-2)\n"
      ],
      "execution_count": 0,
      "outputs": [
        {
          "output_type": "display_data",
          "data": {
            "text/html": [
              ""
            ],
            "text/plain": [
              "<IPython.core.display.HTML object>"
            ]
          },
          "metadata": {
            "tags": []
          }
        },
        {
          "output_type": "display_data",
          "data": {
            "text/html": [
              ""
            ],
            "text/plain": [
              "<IPython.core.display.HTML object>"
            ]
          },
          "metadata": {
            "tags": []
          }
        },
        {
          "output_type": "stream",
          "text": [
            "Downloading https://s3.amazonaws.com/fast-ai-modelzoo/wt103-fwd.tgz\n"
          ],
          "name": "stdout"
        },
        {
          "output_type": "display_data",
          "data": {
            "text/html": [
              ""
            ],
            "text/plain": [
              "<IPython.core.display.HTML object>"
            ]
          },
          "metadata": {
            "tags": []
          }
        },
        {
          "output_type": "display_data",
          "data": {
            "text/html": [
              "<table border=\"1\" class=\"dataframe\">\n",
              "  <thead>\n",
              "    <tr style=\"text-align: left;\">\n",
              "      <th>epoch</th>\n",
              "      <th>train_loss</th>\n",
              "      <th>valid_loss</th>\n",
              "      <th>accuracy</th>\n",
              "      <th>time</th>\n",
              "    </tr>\n",
              "  </thead>\n",
              "  <tbody>\n",
              "    <tr>\n",
              "      <td>0</td>\n",
              "      <td>4.599605</td>\n",
              "      <td>4.017120</td>\n",
              "      <td>0.324107</td>\n",
              "      <td>00:12</td>\n",
              "    </tr>\n",
              "  </tbody>\n",
              "</table>"
            ],
            "text/plain": [
              "<IPython.core.display.HTML object>"
            ]
          },
          "metadata": {
            "tags": []
          }
        }
      ]
    },
    {
      "cell_type": "markdown",
      "metadata": {
        "id": "2JyN27Gv2-WW",
        "colab_type": "text"
      },
      "source": [
        "We save the encoder to be able to use it for classification in the next section."
      ]
    },
    {
      "cell_type": "code",
      "metadata": {
        "id": "l3UxWU_Ipn1f",
        "colab_type": "code",
        "colab": {}
      },
      "source": [
        "# Save encoder to be used in classification model\n",
        "learn.save_encoder('ft_enc')"
      ],
      "execution_count": 0,
      "outputs": []
    },
    {
      "cell_type": "markdown",
      "metadata": {
        "id": "hztuDQ-s3NpP",
        "colab_type": "text"
      },
      "source": [
        "Here, we use TextClasDataBunch to get the data ready for a text classifier. We now use the data_clas object we created earlier to build a classifier with our fine-tuned encoder. The learner object can be done in a single line."
      ]
    },
    {
      "cell_type": "code",
      "metadata": {
        "id": "GNyKN_lfqNXJ",
        "colab_type": "code",
        "outputId": "3053c59d-d4e9-4de8-a7db-9028246227e1",
        "colab": {
          "base_uri": "https://localhost:8080/",
          "height": 1000
        }
      },
      "source": [
        "# Build classifier\n",
        "data_clas = TextClasDataBunch.from_df(train_df = sub_df_trn, valid_df = sub_df_val, path=\".\", vocab=data_lm.train_ds.vocab, bs=32)\n",
        "\n",
        "learn = text_classifier_learner(data_clas, AWD_LSTM, drop_mult=0.5)\n",
        "learn.load_encoder('ft_enc')"
      ],
      "execution_count": 0,
      "outputs": [
        {
          "output_type": "display_data",
          "data": {
            "text/html": [
              ""
            ],
            "text/plain": [
              "<IPython.core.display.HTML object>"
            ]
          },
          "metadata": {
            "tags": []
          }
        },
        {
          "output_type": "display_data",
          "data": {
            "text/html": [
              ""
            ],
            "text/plain": [
              "<IPython.core.display.HTML object>"
            ]
          },
          "metadata": {
            "tags": []
          }
        },
        {
          "output_type": "execute_result",
          "data": {
            "text/plain": [
              "RNNLearner(data=TextClasDataBunch;\n",
              "\n",
              "Train: LabelList (8282 items)\n",
              "x: TextList\n",
              "xxbos xxmaj yes ! xxmaj the tax credits will be delayed . xxmaj some form of victory . # taxcredits xxmaj freelance journalist : xxmaj manga critic for xxunk , editor of xxunk , administrator for xxunk , has xxmaj xxunk 's etc .,xxbos xxunk yeah , the fact that they know it 's disrespectful and still do it xxunk me bad bitch with cruel intentions # xxunk # protecttranslives,xxbos 1 new follower in the last day and it is more than just stats , i use it for growing my account ! xxmaj try it https : / / t.co / xxunk xxmaj you are my life i love you i admire you i helped with your voice in the dark moments @luke5sos,xxbos xxmaj typhoon xxmaj koppu death xxunk reaches 54 as xxmaj philippines battles devastating floods - theû _ https : / / t.co / xxunk # xxmaj typhoon xxmaj latest typhoon news and updates from the xxmaj philippines .,xxbos xxunk heard this new ones boss so gon na watch the 3 xxmaj daniel xxmaj craig ones this week ! xxmaj thought i was the only one who 'd not seen any ! !\n",
              "y: CategoryList\n",
              "male,male,female,brand,male\n",
              "Path: .;\n",
              "\n",
              "Valid: LabelList (5522 items)\n",
              "x: TextList\n",
              "xxbos i 'd take a coffee and , or both , a hot xxunk xxunk she s a wild child got a rebel soul with a whole lot of xxunk wild style she ca nt be tied down but for a while,xxbos xxmaj they 're \" trusted \" on the economy despite ruining it , cos they xxunk lie and the public wants to believe it . https : / / t.co / xxunk xxmaj fiction xxmaj writer , xxmaj musician , xxmaj xxunk , xxmaj xxunk , xxmaj xxunk , & xxmaj xxunk . xxmaj learning to cope with disability . xxmaj weird fiction available here : http : / / t.co / xxunk,xxbos xxmaj my makeup looks so good and i ca n't take a good enough picture . xxup what a xxup waste 20 | xxmaj star xxmaj wars | xxup ok,xxbos xxup everydayiloveyou xxmaj forevermore \n",
              " \n",
              "  and what makes it last \n",
              " \n",
              "  # pushawardslizquens,xxbos xxmaj the xxmaj extra xxmaj charge xxmaj on xxmaj utility xxmaj bills xxmaj for xxmaj xxunk xxmaj and xxmaj little xxmaj xxunk - xxmaj houston xxmaj public xxmaj media https : / / t.co / xxunk # xxmaj houston # xxmaj texas\n",
              "y: CategoryList\n",
              "female,male,female,female,brand\n",
              "Path: .;\n",
              "\n",
              "Test: None, model=SequentialRNN(\n",
              "  (0): MultiBatchEncoder(\n",
              "    (module): AWD_LSTM(\n",
              "      (encoder): Embedding(11392, 400, padding_idx=1)\n",
              "      (encoder_dp): EmbeddingDropout(\n",
              "        (emb): Embedding(11392, 400, padding_idx=1)\n",
              "      )\n",
              "      (rnns): ModuleList(\n",
              "        (0): WeightDropout(\n",
              "          (module): LSTM(400, 1152, batch_first=True)\n",
              "        )\n",
              "        (1): WeightDropout(\n",
              "          (module): LSTM(1152, 1152, batch_first=True)\n",
              "        )\n",
              "        (2): WeightDropout(\n",
              "          (module): LSTM(1152, 400, batch_first=True)\n",
              "        )\n",
              "      )\n",
              "      (input_dp): RNNDropout()\n",
              "      (hidden_dps): ModuleList(\n",
              "        (0): RNNDropout()\n",
              "        (1): RNNDropout()\n",
              "        (2): RNNDropout()\n",
              "      )\n",
              "    )\n",
              "  )\n",
              "  (1): PoolingLinearClassifier(\n",
              "    (layers): Sequential(\n",
              "      (0): BatchNorm1d(1200, eps=1e-05, momentum=0.1, affine=True, track_running_stats=True)\n",
              "      (1): Dropout(p=0.2, inplace=False)\n",
              "      (2): Linear(in_features=1200, out_features=50, bias=True)\n",
              "      (3): ReLU(inplace=True)\n",
              "      (4): BatchNorm1d(50, eps=1e-05, momentum=0.1, affine=True, track_running_stats=True)\n",
              "      (5): Dropout(p=0.1, inplace=False)\n",
              "      (6): Linear(in_features=50, out_features=3, bias=True)\n",
              "    )\n",
              "  )\n",
              "), opt_func=functools.partial(<class 'torch.optim.adam.Adam'>, betas=(0.9, 0.99)), loss_func=FlattenedLoss of CrossEntropyLoss(), metrics=[<function accuracy at 0x7fa4a556a378>], true_wd=True, bn_wd=True, wd=0.01, train_bn=True, path=PosixPath('.'), model_dir='models', callback_fns=[functools.partial(<class 'fastai.basic_train.Recorder'>, add_time=True, silent=False)], callbacks=[RNNTrainer\n",
              "learn: RNNLearner(data=TextClasDataBunch;\n",
              "\n",
              "Train: LabelList (8282 items)\n",
              "x: TextList\n",
              "xxbos xxmaj yes ! xxmaj the tax credits will be delayed . xxmaj some form of victory . # taxcredits xxmaj freelance journalist : xxmaj manga critic for xxunk , editor of xxunk , administrator for xxunk , has xxmaj xxunk 's etc .,xxbos xxunk yeah , the fact that they know it 's disrespectful and still do it xxunk me bad bitch with cruel intentions # xxunk # protecttranslives,xxbos 1 new follower in the last day and it is more than just stats , i use it for growing my account ! xxmaj try it https : / / t.co / xxunk xxmaj you are my life i love you i admire you i helped with your voice in the dark moments @luke5sos,xxbos xxmaj typhoon xxmaj koppu death xxunk reaches 54 as xxmaj philippines battles devastating floods - theû _ https : / / t.co / xxunk # xxmaj typhoon xxmaj latest typhoon news and updates from the xxmaj philippines .,xxbos xxunk heard this new ones boss so gon na watch the 3 xxmaj daniel xxmaj craig ones this week ! xxmaj thought i was the only one who 'd not seen any ! !\n",
              "y: CategoryList\n",
              "male,male,female,brand,male\n",
              "Path: .;\n",
              "\n",
              "Valid: LabelList (5522 items)\n",
              "x: TextList\n",
              "xxbos i 'd take a coffee and , or both , a hot xxunk xxunk she s a wild child got a rebel soul with a whole lot of xxunk wild style she ca nt be tied down but for a while,xxbos xxmaj they 're \" trusted \" on the economy despite ruining it , cos they xxunk lie and the public wants to believe it . https : / / t.co / xxunk xxmaj fiction xxmaj writer , xxmaj musician , xxmaj xxunk , xxmaj xxunk , xxmaj xxunk , & xxmaj xxunk . xxmaj learning to cope with disability . xxmaj weird fiction available here : http : / / t.co / xxunk,xxbos xxmaj my makeup looks so good and i ca n't take a good enough picture . xxup what a xxup waste 20 | xxmaj star xxmaj wars | xxup ok,xxbos xxup everydayiloveyou xxmaj forevermore \n",
              " \n",
              "  and what makes it last \n",
              " \n",
              "  # pushawardslizquens,xxbos xxmaj the xxmaj extra xxmaj charge xxmaj on xxmaj utility xxmaj bills xxmaj for xxmaj xxunk xxmaj and xxmaj little xxmaj xxunk - xxmaj houston xxmaj public xxmaj media https : / / t.co / xxunk # xxmaj houston # xxmaj texas\n",
              "y: CategoryList\n",
              "female,male,female,female,brand\n",
              "Path: .;\n",
              "\n",
              "Test: None, model=SequentialRNN(\n",
              "  (0): MultiBatchEncoder(\n",
              "    (module): AWD_LSTM(\n",
              "      (encoder): Embedding(11392, 400, padding_idx=1)\n",
              "      (encoder_dp): EmbeddingDropout(\n",
              "        (emb): Embedding(11392, 400, padding_idx=1)\n",
              "      )\n",
              "      (rnns): ModuleList(\n",
              "        (0): WeightDropout(\n",
              "          (module): LSTM(400, 1152, batch_first=True)\n",
              "        )\n",
              "        (1): WeightDropout(\n",
              "          (module): LSTM(1152, 1152, batch_first=True)\n",
              "        )\n",
              "        (2): WeightDropout(\n",
              "          (module): LSTM(1152, 400, batch_first=True)\n",
              "        )\n",
              "      )\n",
              "      (input_dp): RNNDropout()\n",
              "      (hidden_dps): ModuleList(\n",
              "        (0): RNNDropout()\n",
              "        (1): RNNDropout()\n",
              "        (2): RNNDropout()\n",
              "      )\n",
              "    )\n",
              "  )\n",
              "  (1): PoolingLinearClassifier(\n",
              "    (layers): Sequential(\n",
              "      (0): BatchNorm1d(1200, eps=1e-05, momentum=0.1, affine=True, track_running_stats=True)\n",
              "      (1): Dropout(p=0.2, inplace=False)\n",
              "      (2): Linear(in_features=1200, out_features=50, bias=True)\n",
              "      (3): ReLU(inplace=True)\n",
              "      (4): BatchNorm1d(50, eps=1e-05, momentum=0.1, affine=True, track_running_stats=True)\n",
              "      (5): Dropout(p=0.1, inplace=False)\n",
              "      (6): Linear(in_features=50, out_features=3, bias=True)\n",
              "    )\n",
              "  )\n",
              "), opt_func=functools.partial(<class 'torch.optim.adam.Adam'>, betas=(0.9, 0.99)), loss_func=FlattenedLoss of CrossEntropyLoss(), metrics=[<function accuracy at 0x7fa4a556a378>], true_wd=True, bn_wd=True, wd=0.01, train_bn=True, path=PosixPath('.'), model_dir='models', callback_fns=[functools.partial(<class 'fastai.basic_train.Recorder'>, add_time=True, silent=False)], callbacks=[...], layer_groups=[Sequential(\n",
              "  (0): Embedding(11392, 400, padding_idx=1)\n",
              "  (1): EmbeddingDropout(\n",
              "    (emb): Embedding(11392, 400, padding_idx=1)\n",
              "  )\n",
              "), Sequential(\n",
              "  (0): WeightDropout(\n",
              "    (module): LSTM(400, 1152, batch_first=True)\n",
              "  )\n",
              "  (1): RNNDropout()\n",
              "), Sequential(\n",
              "  (0): WeightDropout(\n",
              "    (module): LSTM(1152, 1152, batch_first=True)\n",
              "  )\n",
              "  (1): RNNDropout()\n",
              "), Sequential(\n",
              "  (0): WeightDropout(\n",
              "    (module): LSTM(1152, 400, batch_first=True)\n",
              "  )\n",
              "  (1): RNNDropout()\n",
              "), Sequential(\n",
              "  (0): PoolingLinearClassifier(\n",
              "    (layers): Sequential(\n",
              "      (0): BatchNorm1d(1200, eps=1e-05, momentum=0.1, affine=True, track_running_stats=True)\n",
              "      (1): Dropout(p=0.2, inplace=False)\n",
              "      (2): Linear(in_features=1200, out_features=50, bias=True)\n",
              "      (3): ReLU(inplace=True)\n",
              "      (4): BatchNorm1d(50, eps=1e-05, momentum=0.1, affine=True, track_running_stats=True)\n",
              "      (5): Dropout(p=0.1, inplace=False)\n",
              "      (6): Linear(in_features=50, out_features=3, bias=True)\n",
              "    )\n",
              "  )\n",
              ")], add_time=True, silent=False)\n",
              "alpha: 2.0\n",
              "beta: 1.0], layer_groups=[Sequential(\n",
              "  (0): Embedding(11392, 400, padding_idx=1)\n",
              "  (1): EmbeddingDropout(\n",
              "    (emb): Embedding(11392, 400, padding_idx=1)\n",
              "  )\n",
              "), Sequential(\n",
              "  (0): WeightDropout(\n",
              "    (module): LSTM(400, 1152, batch_first=True)\n",
              "  )\n",
              "  (1): RNNDropout()\n",
              "), Sequential(\n",
              "  (0): WeightDropout(\n",
              "    (module): LSTM(1152, 1152, batch_first=True)\n",
              "  )\n",
              "  (1): RNNDropout()\n",
              "), Sequential(\n",
              "  (0): WeightDropout(\n",
              "    (module): LSTM(1152, 400, batch_first=True)\n",
              "  )\n",
              "  (1): RNNDropout()\n",
              "), Sequential(\n",
              "  (0): PoolingLinearClassifier(\n",
              "    (layers): Sequential(\n",
              "      (0): BatchNorm1d(1200, eps=1e-05, momentum=0.1, affine=True, track_running_stats=True)\n",
              "      (1): Dropout(p=0.2, inplace=False)\n",
              "      (2): Linear(in_features=1200, out_features=50, bias=True)\n",
              "      (3): ReLU(inplace=True)\n",
              "      (4): BatchNorm1d(50, eps=1e-05, momentum=0.1, affine=True, track_running_stats=True)\n",
              "      (5): Dropout(p=0.1, inplace=False)\n",
              "      (6): Linear(in_features=50, out_features=3, bias=True)\n",
              "    )\n",
              "  )\n",
              ")], add_time=True, silent=False)"
            ]
          },
          "metadata": {
            "tags": []
          },
          "execution_count": 10
        }
      ]
    },
    {
      "cell_type": "code",
      "metadata": {
        "id": "LqrSFXHKrl6E",
        "colab_type": "code",
        "outputId": "904072bf-1c40-45e0-de33-bcbcfa38eb38",
        "colab": {
          "base_uri": "https://localhost:8080/",
          "height": 80
        }
      },
      "source": [
        "# train final layers\n",
        "learn.fit_one_cycle(1, 1e-2)"
      ],
      "execution_count": 0,
      "outputs": [
        {
          "output_type": "display_data",
          "data": {
            "text/html": [
              "<table border=\"1\" class=\"dataframe\">\n",
              "  <thead>\n",
              "    <tr style=\"text-align: left;\">\n",
              "      <th>epoch</th>\n",
              "      <th>train_loss</th>\n",
              "      <th>valid_loss</th>\n",
              "      <th>accuracy</th>\n",
              "      <th>time</th>\n",
              "    </tr>\n",
              "  </thead>\n",
              "  <tbody>\n",
              "    <tr>\n",
              "      <td>0</td>\n",
              "      <td>0.897622</td>\n",
              "      <td>0.782451</td>\n",
              "      <td>0.634009</td>\n",
              "      <td>00:09</td>\n",
              "    </tr>\n",
              "  </tbody>\n",
              "</table>"
            ],
            "text/plain": [
              "<IPython.core.display.HTML object>"
            ]
          },
          "metadata": {
            "tags": []
          }
        }
      ]
    },
    {
      "cell_type": "markdown",
      "metadata": {
        "id": "ZAVzyQN63r-9",
        "colab_type": "text"
      },
      "source": [
        "Like a computer vision model, we can then unfreeze the model and fine-tune it."
      ]
    },
    {
      "cell_type": "code",
      "metadata": {
        "id": "vYJedDC0s602",
        "colab_type": "code",
        "outputId": "a9dad652-087a-4672-b21b-b8a10cf0d381",
        "colab": {
          "base_uri": "https://localhost:8080/",
          "height": 80
        }
      },
      "source": [
        "# unfreeze model and fine tune it\n",
        "learn.freeze_to(-2)\n",
        "learn.fit_one_cycle(1, slice(5e-3/2., 5e-3))"
      ],
      "execution_count": 0,
      "outputs": [
        {
          "output_type": "display_data",
          "data": {
            "text/html": [
              "<table border=\"1\" class=\"dataframe\">\n",
              "  <thead>\n",
              "    <tr style=\"text-align: left;\">\n",
              "      <th>epoch</th>\n",
              "      <th>train_loss</th>\n",
              "      <th>valid_loss</th>\n",
              "      <th>accuracy</th>\n",
              "      <th>time</th>\n",
              "    </tr>\n",
              "  </thead>\n",
              "  <tbody>\n",
              "    <tr>\n",
              "      <td>0</td>\n",
              "      <td>0.866165</td>\n",
              "      <td>0.746524</td>\n",
              "      <td>0.655016</td>\n",
              "      <td>00:11</td>\n",
              "    </tr>\n",
              "  </tbody>\n",
              "</table>"
            ],
            "text/plain": [
              "<IPython.core.display.HTML object>"
            ]
          },
          "metadata": {
            "tags": []
          }
        }
      ]
    },
    {
      "cell_type": "code",
      "metadata": {
        "id": "G6S00uzYtaJ3",
        "colab_type": "code",
        "outputId": "a7113cde-8270-4780-d134-32023e65fc83",
        "colab": {
          "base_uri": "https://localhost:8080/",
          "height": 80
        }
      },
      "source": [
        "learn.unfreeze()\n",
        "learn.fit_one_cycle(1, slice(2e-3/100, 2e-3))"
      ],
      "execution_count": 0,
      "outputs": [
        {
          "output_type": "display_data",
          "data": {
            "text/html": [
              "<table border=\"1\" class=\"dataframe\">\n",
              "  <thead>\n",
              "    <tr style=\"text-align: left;\">\n",
              "      <th>epoch</th>\n",
              "      <th>train_loss</th>\n",
              "      <th>valid_loss</th>\n",
              "      <th>accuracy</th>\n",
              "      <th>time</th>\n",
              "    </tr>\n",
              "  </thead>\n",
              "  <tbody>\n",
              "    <tr>\n",
              "      <td>0</td>\n",
              "      <td>0.789243</td>\n",
              "      <td>0.694441</td>\n",
              "      <td>0.688881</td>\n",
              "      <td>00:18</td>\n",
              "    </tr>\n",
              "  </tbody>\n",
              "</table>"
            ],
            "text/plain": [
              "<IPython.core.display.HTML object>"
            ]
          },
          "metadata": {
            "tags": []
          }
        }
      ]
    },
    {
      "cell_type": "markdown",
      "metadata": {
        "id": "nat3AZJy4Cr1",
        "colab_type": "text"
      },
      "source": [
        "To improve the accuracy further, we use freeze_to method with different layers in it. We don't unfreeze the whole thing but to unfreeze one layer at a time. \n",
        "unfreeze the last two layers freeze_to(-2), train it a little bit more.\n",
        "unfreeze the next layer freeze_to(-3), train it a little bit more.\n",
        "unfreeze the whole thing unfreeze(), train it a little bit more."
      ]
    },
    {
      "cell_type": "code",
      "metadata": {
        "id": "X14RHPrft1KJ",
        "colab_type": "code",
        "outputId": "3dcd8887-176e-4b8d-9dc2-b6cc50b4d2e3",
        "colab": {
          "base_uri": "https://localhost:8080/",
          "height": 80
        }
      },
      "source": [
        "# unfreeze model and fine tune it\n",
        "learn.freeze_to(-3)\n",
        "learn.fit_one_cycle(1, slice(1e-3/2., 1e-3))"
      ],
      "execution_count": 0,
      "outputs": [
        {
          "output_type": "display_data",
          "data": {
            "text/html": [
              "<table border=\"1\" class=\"dataframe\">\n",
              "  <thead>\n",
              "    <tr style=\"text-align: left;\">\n",
              "      <th>epoch</th>\n",
              "      <th>train_loss</th>\n",
              "      <th>valid_loss</th>\n",
              "      <th>accuracy</th>\n",
              "      <th>time</th>\n",
              "    </tr>\n",
              "  </thead>\n",
              "  <tbody>\n",
              "    <tr>\n",
              "      <td>0</td>\n",
              "      <td>0.729154</td>\n",
              "      <td>0.667992</td>\n",
              "      <td>0.692322</td>\n",
              "      <td>00:14</td>\n",
              "    </tr>\n",
              "  </tbody>\n",
              "</table>"
            ],
            "text/plain": [
              "<IPython.core.display.HTML object>"
            ]
          },
          "metadata": {
            "tags": []
          }
        }
      ]
    },
    {
      "cell_type": "code",
      "metadata": {
        "id": "BQcCGFWEuMzC",
        "colab_type": "code",
        "outputId": "def71e71-db10-420f-b5c6-9f8a52766ef1",
        "colab": {
          "base_uri": "https://localhost:8080/",
          "height": 80
        }
      },
      "source": [
        "learn.unfreeze()\n",
        "learn.fit_one_cycle(1, slice(1e-3/100, 1e-3))"
      ],
      "execution_count": 0,
      "outputs": [
        {
          "output_type": "display_data",
          "data": {
            "text/html": [
              "<table border=\"1\" class=\"dataframe\">\n",
              "  <thead>\n",
              "    <tr style=\"text-align: left;\">\n",
              "      <th>epoch</th>\n",
              "      <th>train_loss</th>\n",
              "      <th>valid_loss</th>\n",
              "      <th>accuracy</th>\n",
              "      <th>time</th>\n",
              "    </tr>\n",
              "  </thead>\n",
              "  <tbody>\n",
              "    <tr>\n",
              "      <td>0</td>\n",
              "      <td>0.667758</td>\n",
              "      <td>0.660029</td>\n",
              "      <td>0.705541</td>\n",
              "      <td>00:18</td>\n",
              "    </tr>\n",
              "  </tbody>\n",
              "</table>"
            ],
            "text/plain": [
              "<IPython.core.display.HTML object>"
            ]
          },
          "metadata": {
            "tags": []
          }
        }
      ]
    },
    {
      "cell_type": "markdown",
      "metadata": {
        "id": "uKD25GH-4fyu",
        "colab_type": "text"
      },
      "source": [
        "We can see that after training for a few layers here, the accuracy jumped to almost 7% more than the original. This is a technique used in Transfer Learning. The Validation loss and the training loss decreased too. Here it is important to note that we are exactly not overfitting the data because the training and validation loss are almost the same, so we don't have to train the model more."
      ]
    },
    {
      "cell_type": "code",
      "metadata": {
        "id": "TH5xmIx0usQx",
        "colab_type": "code",
        "outputId": "81790e45-a0d2-40e2-a83f-027e07987b6f",
        "colab": {
          "base_uri": "https://localhost:8080/",
          "height": 17
        }
      },
      "source": [
        "from fastai.vision import *\n",
        "preds, y, losses = learn.get_preds(with_loss=True)\n",
        "interp = ClassificationInterpretation(learn, preds, y, losses)"
      ],
      "execution_count": 0,
      "outputs": [
        {
          "output_type": "display_data",
          "data": {
            "text/html": [
              ""
            ],
            "text/plain": [
              "<IPython.core.display.HTML object>"
            ]
          },
          "metadata": {
            "tags": []
          }
        }
      ]
    },
    {
      "cell_type": "markdown",
      "metadata": {
        "id": "WonXQut04Tk4",
        "colab_type": "text"
      },
      "source": [
        "Plotting the confusion matrix. Confusion-matrix is good technique to summarize the performance of a classification algorithm. We use ClassificationInterpretationclass here."
      ]
    },
    {
      "cell_type": "code",
      "metadata": {
        "id": "aUD6L4jdzKRk",
        "colab_type": "code",
        "outputId": "78631f9f-77a7-4840-a1b4-21513c666545",
        "colab": {
          "base_uri": "https://localhost:8080/",
          "height": 311
        }
      },
      "source": [
        "interp.plot_confusion_matrix()"
      ],
      "execution_count": 0,
      "outputs": [
        {
          "output_type": "display_data",
          "data": {
            "image/png": "[encoded data removed]",
            "text/plain": [
              "<Figure size 432x288 with 1 Axes>"
            ]
          },
          "metadata": {
            "tags": [],
            "needs_background": "light"
          }
        }
      ]
    },
    {
      "cell_type": "code",
      "metadata": {
        "id": "0K0RVmEd1qiL",
        "colab_type": "code",
        "colab": {}
      },
      "source": [
        ""
      ],
      "execution_count": 0,
      "outputs": []
    }
  ]
}