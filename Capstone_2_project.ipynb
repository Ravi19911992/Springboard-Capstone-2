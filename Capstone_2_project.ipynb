{
 "cells": [
  {
   "cell_type": "markdown",
   "metadata": {},
   "source": [
    "## Predicting the user gender based on the tweet information from text"
   ]
  },
  {
   "cell_type": "markdown",
   "metadata": {},
   "source": [
    "* Natural language is any language that is used by people in everyday like English or Spanish\n",
    "* NLP is used for any computation and/or manipulation of natural language to get inside about how words mean and how sentences are contructed is natural language processing.\n",
    "* Natural languages are in change like new words tweets\n",
    "* Text is everywhere like books, facebook or twitter.\n",
    "* Text data is growing each passing day. The amount of text data will be approximately 70 zettabytes in approximately next 1-2 years.\n",
    "* NLP is useful for text mining to sentiment analysis, topic modelling, finding, classfying and extracting information.\n",
    "\n",
    "There can be multiple things which we can answer using Sentiment analysis such as how well do words in tweets and profiles predict user gender, or what kind of words strongly predict the gender and also how well do stylistic factors(like link color and sidebar color) predict user gender."
   ]
  },
  {
   "cell_type": "markdown",
   "metadata": {},
   "source": [
    "### Objective"
   ]
  },
  {
   "cell_type": "markdown",
   "metadata": {},
   "source": [
    "The goal of this project is to simply view a Twitter profile and judge whether the user was a male, a female, or a brand (non-individual). NLP is used and its different methods paves way for achieving a solution for performing the analysis."
   ]
  },
  {
   "cell_type": "markdown",
   "metadata": {},
   "source": [
    "## 1. Reading the dataset"
   ]
  },
  {
   "cell_type": "code",
   "execution_count": 1,
   "metadata": {},
   "outputs": [],
   "source": [
    "import pandas as pd\n",
    "import numpy as np\n",
    "import seaborn as sns\n",
    "import matplotlib.pyplot as plt"
   ]
  },
  {
   "cell_type": "code",
   "execution_count": 2,
   "metadata": {},
   "outputs": [
    {
     "data": {
      "text/html": [
       "<div>\n",
       "<style scoped>\n",
       "    .dataframe tbody tr th:only-of-type {\n",
       "        vertical-align: middle;\n",
       "    }\n",
       "\n",
       "    .dataframe tbody tr th {\n",
       "        vertical-align: top;\n",
       "    }\n",
       "\n",
       "    .dataframe thead th {\n",
       "        text-align: right;\n",
       "    }\n",
       "</style>\n",
       "<table border=\"1\" class=\"dataframe\">\n",
       "  <thead>\n",
       "    <tr style=\"text-align: right;\">\n",
       "      <th></th>\n",
       "      <th>_unit_id</th>\n",
       "      <th>_golden</th>\n",
       "      <th>_unit_state</th>\n",
       "      <th>_trusted_judgments</th>\n",
       "      <th>_last_judgment_at</th>\n",
       "      <th>gender</th>\n",
       "      <th>gender:confidence</th>\n",
       "      <th>profile_yn</th>\n",
       "      <th>profile_yn:confidence</th>\n",
       "      <th>created</th>\n",
       "      <th>...</th>\n",
       "      <th>profileimage</th>\n",
       "      <th>retweet_count</th>\n",
       "      <th>sidebar_color</th>\n",
       "      <th>text</th>\n",
       "      <th>tweet_coord</th>\n",
       "      <th>tweet_count</th>\n",
       "      <th>tweet_created</th>\n",
       "      <th>tweet_id</th>\n",
       "      <th>tweet_location</th>\n",
       "      <th>user_timezone</th>\n",
       "    </tr>\n",
       "  </thead>\n",
       "  <tbody>\n",
       "    <tr>\n",
       "      <td>0</td>\n",
       "      <td>815719226</td>\n",
       "      <td>False</td>\n",
       "      <td>finalized</td>\n",
       "      <td>3</td>\n",
       "      <td>10/26/15 23:24</td>\n",
       "      <td>male</td>\n",
       "      <td>1.0</td>\n",
       "      <td>yes</td>\n",
       "      <td>1.0</td>\n",
       "      <td>12/5/13 1:48</td>\n",
       "      <td>...</td>\n",
       "      <td>https://pbs.twimg.com/profile_images/414342229...</td>\n",
       "      <td>0</td>\n",
       "      <td>FFFFFF</td>\n",
       "      <td>Robbie E Responds To Critics After Win Against...</td>\n",
       "      <td>NaN</td>\n",
       "      <td>110964</td>\n",
       "      <td>10/26/15 12:40</td>\n",
       "      <td>6.587300e+17</td>\n",
       "      <td>main; @Kan1shk3</td>\n",
       "      <td>Chennai</td>\n",
       "    </tr>\n",
       "    <tr>\n",
       "      <td>1</td>\n",
       "      <td>815719227</td>\n",
       "      <td>False</td>\n",
       "      <td>finalized</td>\n",
       "      <td>3</td>\n",
       "      <td>10/26/15 23:30</td>\n",
       "      <td>male</td>\n",
       "      <td>1.0</td>\n",
       "      <td>yes</td>\n",
       "      <td>1.0</td>\n",
       "      <td>10/1/12 13:51</td>\n",
       "      <td>...</td>\n",
       "      <td>https://pbs.twimg.com/profile_images/539604221...</td>\n",
       "      <td>0</td>\n",
       "      <td>C0DEED</td>\n",
       "      <td>ÛÏIt felt like they were my friends and I was...</td>\n",
       "      <td>NaN</td>\n",
       "      <td>7471</td>\n",
       "      <td>10/26/15 12:40</td>\n",
       "      <td>6.587300e+17</td>\n",
       "      <td>NaN</td>\n",
       "      <td>Eastern Time (US &amp; Canada)</td>\n",
       "    </tr>\n",
       "  </tbody>\n",
       "</table>\n",
       "<p>2 rows × 26 columns</p>\n",
       "</div>"
      ],
      "text/plain": [
       "    _unit_id  _golden _unit_state  _trusted_judgments _last_judgment_at  \\\n",
       "0  815719226    False   finalized                   3    10/26/15 23:24   \n",
       "1  815719227    False   finalized                   3    10/26/15 23:30   \n",
       "\n",
       "  gender  gender:confidence profile_yn  profile_yn:confidence        created  \\\n",
       "0   male                1.0        yes                    1.0   12/5/13 1:48   \n",
       "1   male                1.0        yes                    1.0  10/1/12 13:51   \n",
       "\n",
       "   ...                                       profileimage  retweet_count  \\\n",
       "0  ...  https://pbs.twimg.com/profile_images/414342229...              0   \n",
       "1  ...  https://pbs.twimg.com/profile_images/539604221...              0   \n",
       "\n",
       "  sidebar_color                                               text  \\\n",
       "0        FFFFFF  Robbie E Responds To Critics After Win Against...   \n",
       "1        C0DEED  ÛÏIt felt like they were my friends and I was...   \n",
       "\n",
       "  tweet_coord tweet_count   tweet_created      tweet_id   tweet_location  \\\n",
       "0         NaN      110964  10/26/15 12:40  6.587300e+17  main; @Kan1shk3   \n",
       "1         NaN        7471  10/26/15 12:40  6.587300e+17              NaN   \n",
       "\n",
       "                user_timezone  \n",
       "0                     Chennai  \n",
       "1  Eastern Time (US & Canada)  \n",
       "\n",
       "[2 rows x 26 columns]"
      ]
     },
     "execution_count": 2,
     "metadata": {},
     "output_type": "execute_result"
    }
   ],
   "source": [
    "df = pd.read_csv('../Springboard-Capstone-2/Capstone_2_project/gender-classifier-DFE-791531.csv', encoding='latin-1')\n",
    "df.head(2)"
   ]
  },
  {
   "cell_type": "code",
   "execution_count": 3,
   "metadata": {},
   "outputs": [
    {
     "name": "stdout",
     "output_type": "stream",
     "text": [
      "<class 'pandas.core.frame.DataFrame'>\n",
      "RangeIndex: 20050 entries, 0 to 20049\n",
      "Data columns (total 26 columns):\n",
      "_unit_id                 20050 non-null int64\n",
      "_golden                  20050 non-null bool\n",
      "_unit_state              20050 non-null object\n",
      "_trusted_judgments       20050 non-null int64\n",
      "_last_judgment_at        20000 non-null object\n",
      "gender                   19953 non-null object\n",
      "gender:confidence        20024 non-null float64\n",
      "profile_yn               20050 non-null object\n",
      "profile_yn:confidence    20050 non-null float64\n",
      "created                  20050 non-null object\n",
      "description              16306 non-null object\n",
      "fav_number               20050 non-null int64\n",
      "gender_gold              50 non-null object\n",
      "link_color               20050 non-null object\n",
      "name                     20050 non-null object\n",
      "profile_yn_gold          50 non-null object\n",
      "profileimage             20050 non-null object\n",
      "retweet_count            20050 non-null int64\n",
      "sidebar_color            20050 non-null object\n",
      "text                     20050 non-null object\n",
      "tweet_coord              159 non-null object\n",
      "tweet_count              20050 non-null int64\n",
      "tweet_created            20050 non-null object\n",
      "tweet_id                 20050 non-null float64\n",
      "tweet_location           12566 non-null object\n",
      "user_timezone            12252 non-null object\n",
      "dtypes: bool(1), float64(3), int64(5), object(17)\n",
      "memory usage: 3.8+ MB\n"
     ]
    }
   ],
   "source": [
    "df.info()"
   ]
  },
  {
   "cell_type": "code",
   "execution_count": 4,
   "metadata": {},
   "outputs": [
    {
     "data": {
      "text/plain": [
       "_unit_id                     0\n",
       "_golden                      0\n",
       "_unit_state                  0\n",
       "_trusted_judgments           0\n",
       "_last_judgment_at           50\n",
       "gender                      97\n",
       "gender:confidence           26\n",
       "profile_yn                   0\n",
       "profile_yn:confidence        0\n",
       "created                      0\n",
       "description               3744\n",
       "fav_number                   0\n",
       "gender_gold              20000\n",
       "link_color                   0\n",
       "name                         0\n",
       "profile_yn_gold          20000\n",
       "profileimage                 0\n",
       "retweet_count                0\n",
       "sidebar_color                0\n",
       "text                         0\n",
       "tweet_coord              19891\n",
       "tweet_count                  0\n",
       "tweet_created                0\n",
       "tweet_id                     0\n",
       "tweet_location            7484\n",
       "user_timezone             7798\n",
       "dtype: int64"
      ]
     },
     "execution_count": 4,
     "metadata": {},
     "output_type": "execute_result"
    }
   ],
   "source": [
    "df.isna().sum()"
   ]
  },
  {
   "cell_type": "markdown",
   "metadata": {},
   "source": [
    "I think that from the above dataset, the below columns need not be included in our analysis as they may not contain much information in our gender prediction using text data.\n",
    "\n",
    "* **_unit_id:** a unique id for user\n",
    "* **_last_judgment_at:** date and time of last contributor judgment; blank for gold standard observations\n",
    "* **user_timezone:** the timezone of the user\n",
    "* **tweet_coord:** if the user has location turned on, the coordinates as a string with the format \"[latitude, longitude]\"\n",
    "* **tweet_created:** when the random tweet (in the text column) was created\n",
    "* **tweet_id:** the tweet id of the random tweet\n",
    "* **tweet_location:** location of the tweet; seems to not be particularly normalized\n",
    "* **profileimage:** a link to the profile image\n",
    "* **created:** date and time when the profile was created"
   ]
  },
  {
   "cell_type": "code",
   "execution_count": 5,
   "metadata": {},
   "outputs": [
    {
     "name": "stdout",
     "output_type": "stream",
     "text": [
      "<class 'pandas.core.frame.DataFrame'>\n",
      "RangeIndex: 20050 entries, 0 to 20049\n",
      "Data columns (total 17 columns):\n",
      "_golden                  20050 non-null bool\n",
      "_unit_state              20050 non-null object\n",
      "_trusted_judgments       20050 non-null int64\n",
      "gender                   19953 non-null object\n",
      "gender:confidence        20024 non-null float64\n",
      "profile_yn               20050 non-null object\n",
      "profile_yn:confidence    20050 non-null float64\n",
      "description              16306 non-null object\n",
      "fav_number               20050 non-null int64\n",
      "gender_gold              50 non-null object\n",
      "link_color               20050 non-null object\n",
      "name                     20050 non-null object\n",
      "profile_yn_gold          50 non-null object\n",
      "retweet_count            20050 non-null int64\n",
      "sidebar_color            20050 non-null object\n",
      "text                     20050 non-null object\n",
      "tweet_count              20050 non-null int64\n",
      "dtypes: bool(1), float64(2), int64(4), object(10)\n",
      "memory usage: 2.5+ MB\n"
     ]
    }
   ],
   "source": [
    "# Drop unnecessary columns/features\n",
    "sub_df = df.copy()\n",
    "sub_df.drop (columns = ['_unit_id','_last_judgment_at', 'user_timezone','tweet_coord','tweet_created', 'tweet_id',\n",
    "                        'tweet_location','profileimage','created'], inplace = True)\n",
    "\n",
    "sub_df.info()"
   ]
  },
  {
   "cell_type": "markdown",
   "metadata": {},
   "source": [
    "## 2. Data Wrangling"
   ]
  },
  {
   "cell_type": "markdown",
   "metadata": {},
   "source": [
    "Let us now take a look at the columns which has NaN values. From the above information, looks like few of the columns has missing values. We now have to check and implement a process to clean up those. Let's now check the columns needed to be worked upon."
   ]
  },
  {
   "cell_type": "markdown",
   "metadata": {},
   "source": [
    "#### a. Gender feature"
   ]
  },
  {
   "cell_type": "code",
   "execution_count": 6,
   "metadata": {},
   "outputs": [
    {
     "data": {
      "text/plain": [
       "female     6700\n",
       "male       6194\n",
       "brand      5942\n",
       "unknown    1117\n",
       "Name: gender, dtype: int64"
      ]
     },
     "execution_count": 6,
     "metadata": {},
     "output_type": "execute_result"
    }
   ],
   "source": [
    "sub_df['gender'].value_counts()"
   ]
  },
  {
   "cell_type": "markdown",
   "metadata": {},
   "source": [
    "Looks like female gender profiles are more than males, and there many unknown gender profiles too, which is weird. So let's dop the profile unknown from the data."
   ]
  },
  {
   "cell_type": "code",
   "execution_count": 7,
   "metadata": {},
   "outputs": [
    {
     "data": {
      "text/plain": [
       "female    6700\n",
       "male      6194\n",
       "brand     5942\n",
       "Name: gender, dtype: int64"
      ]
     },
     "execution_count": 7,
     "metadata": {},
     "output_type": "execute_result"
    }
   ],
   "source": [
    "gender_idx = sub_df[sub_df['gender']=='unknown'].index\n",
    "sub_df.drop(index = gender_idx, inplace=True)\n",
    "sub_df['gender'].value_counts()"
   ]
  },
  {
   "cell_type": "code",
   "execution_count": 8,
   "metadata": {},
   "outputs": [
    {
     "data": {
      "text/plain": [
       "Text(0.5, 1.0, 'Gender count of each gender type')"
      ]
     },
     "execution_count": 8,
     "metadata": {},
     "output_type": "execute_result"
    },
    {
     "data": {
      "image/png": "[encoded data removed]",
      "text/plain": [
       "<Figure size 432x360 with 1 Axes>"
      ]
     },
     "metadata": {
      "needs_background": "light"
     },
     "output_type": "display_data"
    }
   ],
   "source": [
    "sub_df['gender'].value_counts().plot(kind='bar', color='green', figsize = (6,5), fontsize = 12)\n",
    "plt.xlabel('gender')\n",
    "plt.ylabel('Total gender count')\n",
    "plt.title('Gender count of each gender type')"
   ]
  },
  {
   "cell_type": "markdown",
   "metadata": {},
   "source": [
    "Now, I try to check how many tweet counts each gender has, so that we get a fair idea of which gender has more tweet counts."
   ]
  },
  {
   "cell_type": "code",
   "execution_count": 9,
   "metadata": {},
   "outputs": [],
   "source": [
    "female_tweets = sub_df[\"gender\"] == \"female\"\n",
    "male_tweets = sub_df[\"gender\"] == \"male\"\n",
    "brand_tweets = sub_df[\"gender\"] == \"brand\""
   ]
  },
  {
   "cell_type": "code",
   "execution_count": 10,
   "metadata": {},
   "outputs": [],
   "source": [
    "female_rows = sub_df[female_tweets]\n",
    "male_rows = sub_df[male_tweets]\n",
    "brand_rows = sub_df[brand_tweets]"
   ]
  },
  {
   "cell_type": "code",
   "execution_count": 11,
   "metadata": {},
   "outputs": [
    {
     "name": "stdout",
     "output_type": "stream",
     "text": [
      "Total female tweets:  5725\n",
      "Total male tweets:    5469\n",
      "Total brand tweets:   4328\n"
     ]
    }
   ],
   "source": [
    "print(\"Total female tweets: \",female_rows.description.count())\n",
    "print(\"Total male tweets:   \",male_rows.description.count())\n",
    "print(\"Total brand tweets:  \",brand_rows.description.count())"
   ]
  },
  {
   "cell_type": "markdown",
   "metadata": {},
   "source": [
    "We can try to label the gender so that it becomes easy later for us to detect which category is which gender, and also is helpful for our models later on"
   ]
  },
  {
   "cell_type": "code",
   "execution_count": 12,
   "metadata": {},
   "outputs": [
    {
     "name": "stdout",
     "output_type": "stream",
     "text": [
      "<class 'pandas.core.frame.DataFrame'>\n",
      "Int64Index: 18933 entries, 0 to 20049\n",
      "Data columns (total 17 columns):\n",
      "_golden                  18933 non-null bool\n",
      "_unit_state              18933 non-null object\n",
      "_trusted_judgments       18933 non-null int64\n",
      "gender                   18836 non-null object\n",
      "gender:confidence        18907 non-null float64\n",
      "profile_yn               18933 non-null object\n",
      "profile_yn:confidence    18933 non-null float64\n",
      "description              15604 non-null object\n",
      "fav_number               18933 non-null int64\n",
      "gender_gold              50 non-null object\n",
      "link_color               18933 non-null object\n",
      "name                     18933 non-null object\n",
      "profile_yn_gold          50 non-null object\n",
      "retweet_count            18933 non-null int64\n",
      "sidebar_color            18933 non-null object\n",
      "text                     18933 non-null object\n",
      "tweet_count              18933 non-null int64\n",
      "dtypes: bool(1), float64(2), int64(4), object(10)\n",
      "memory usage: 2.5+ MB\n"
     ]
    }
   ],
   "source": [
    "sub_df.info()"
   ]
  },
  {
   "cell_type": "code",
   "execution_count": 13,
   "metadata": {},
   "outputs": [
    {
     "data": {
      "text/plain": [
       "_golden                      0\n",
       "_unit_state                  0\n",
       "_trusted_judgments           0\n",
       "gender                      97\n",
       "gender:confidence           26\n",
       "profile_yn                   0\n",
       "profile_yn:confidence        0\n",
       "description               3329\n",
       "fav_number                   0\n",
       "gender_gold              18883\n",
       "link_color                   0\n",
       "name                         0\n",
       "profile_yn_gold          18883\n",
       "retweet_count                0\n",
       "sidebar_color                0\n",
       "text                         0\n",
       "tweet_count                  0\n",
       "dtype: int64"
      ]
     },
     "execution_count": 13,
     "metadata": {},
     "output_type": "execute_result"
    }
   ],
   "source": [
    "sub_df.isna().sum()"
   ]
  },
  {
   "cell_type": "markdown",
   "metadata": {},
   "source": [
    "We see here that the description content has NaN values/missing. I think it would be fine to drop those missing values since it's a description content, and we would not be able to replace those values. So I will go ahead and perform the clean up."
   ]
  },
  {
   "cell_type": "markdown",
   "metadata": {},
   "source": [
    "#### b. Profile feature(profile_yn, profile_yn_gold)"
   ]
  },
  {
   "cell_type": "markdown",
   "metadata": {},
   "source": [
    "**No':** Profile was meant to be part of the dataset but was not available when contributors went to judge it."
   ]
  },
  {
   "cell_type": "markdown",
   "metadata": {},
   "source": [
    "Since, we have 97 instances from the DataFrame which has the option **No**, we can remove all these."
   ]
  },
  {
   "cell_type": "code",
   "execution_count": 14,
   "metadata": {},
   "outputs": [
    {
     "name": "stdout",
     "output_type": "stream",
     "text": [
      "yes    18836\n",
      "Name: profile_yn, dtype: int64\n"
     ]
    }
   ],
   "source": [
    "profile_yn_idx = sub_df[sub_df['profile_yn'] == 'no'].index\n",
    "sub_df.drop (index = profile_yn_idx, inplace = True)\n",
    "print(sub_df['profile_yn'].value_counts())"
   ]
  },
  {
   "cell_type": "markdown",
   "metadata": {},
   "source": [
    "I think we can remove the profile_yn:confidence and profile_yn_gold as this may contain little to no information to us."
   ]
  },
  {
   "cell_type": "code",
   "execution_count": 15,
   "metadata": {},
   "outputs": [
    {
     "name": "stdout",
     "output_type": "stream",
     "text": [
      "<class 'pandas.core.frame.DataFrame'>\n",
      "Int64Index: 18836 entries, 0 to 20049\n",
      "Data columns (total 16 columns):\n",
      "_golden                  18836 non-null bool\n",
      "_unit_state              18836 non-null object\n",
      "_trusted_judgments       18836 non-null int64\n",
      "gender                   18836 non-null object\n",
      "gender:confidence        18836 non-null float64\n",
      "profile_yn               18836 non-null object\n",
      "profile_yn:confidence    18836 non-null float64\n",
      "description              15522 non-null object\n",
      "fav_number               18836 non-null int64\n",
      "gender_gold              50 non-null object\n",
      "link_color               18836 non-null object\n",
      "name                     18836 non-null object\n",
      "retweet_count            18836 non-null int64\n",
      "sidebar_color            18836 non-null object\n",
      "text                     18836 non-null object\n",
      "tweet_count              18836 non-null int64\n",
      "dtypes: bool(1), float64(2), int64(4), object(9)\n",
      "memory usage: 2.3+ MB\n"
     ]
    }
   ],
   "source": [
    "sub_df.drop(columns=['profile_yn_gold'], inplace=True)\n",
    "sub_df.info()"
   ]
  },
  {
   "cell_type": "code",
   "execution_count": 16,
   "metadata": {},
   "outputs": [
    {
     "data": {
      "text/plain": [
       "finalized    18786\n",
       "golden          50\n",
       "Name: _unit_state, dtype: int64"
      ]
     },
     "execution_count": 16,
     "metadata": {},
     "output_type": "execute_result"
    }
   ],
   "source": [
    "sub_df['_unit_state'].value_counts()"
   ]
  },
  {
   "cell_type": "markdown",
   "metadata": {},
   "source": [
    "#### c. Low Confidence gender(gender:confidence)"
   ]
  },
  {
   "cell_type": "code",
   "execution_count": 17,
   "metadata": {},
   "outputs": [
    {
     "data": {
      "text/plain": [
       "1.0000    13804\n",
       "0.6691       29\n",
       "0.6667       27\n",
       "0.6619       27\n",
       "0.6743       26\n",
       "          ...  \n",
       "0.3582        1\n",
       "0.5540        1\n",
       "0.3330        1\n",
       "0.3458        1\n",
       "0.3534        1\n",
       "Name: gender:confidence, Length: 892, dtype: int64"
      ]
     },
     "execution_count": 17,
     "metadata": {},
     "output_type": "execute_result"
    }
   ],
   "source": [
    "sub_df['gender:confidence'].value_counts()"
   ]
  },
  {
   "cell_type": "code",
   "execution_count": 18,
   "metadata": {},
   "outputs": [
    {
     "name": "stdout",
     "output_type": "stream",
     "text": [
      "Full data items:  (18836, 16)\n",
      "Data with label-confidence < 100%:  (5032, 16)\n"
     ]
    }
   ],
   "source": [
    "print ('Full data items: ', sub_df.shape)\n",
    "print ('Data with label-confidence < 100%: ', sub_df[sub_df['gender:confidence'] < 1].shape)"
   ]
  },
  {
   "cell_type": "markdown",
   "metadata": {},
   "source": [
    "We see here that there is almost 1/5th of the data which has low confidence of less than 100%. So we can remove those which are not fully 100%"
   ]
  },
  {
   "cell_type": "code",
   "execution_count": 19,
   "metadata": {},
   "outputs": [
    {
     "name": "stdout",
     "output_type": "stream",
     "text": [
      "1.0    13804\n",
      "Name: gender:confidence, dtype: int64\n"
     ]
    }
   ],
   "source": [
    "gender_confidence_idx = sub_df[sub_df['gender:confidence'] < 1].index\n",
    "sub_df.drop (index = gender_confidence_idx, inplace = True)\n",
    "print (sub_df['gender:confidence'].value_counts())"
   ]
  },
  {
   "cell_type": "markdown",
   "metadata": {},
   "source": [
    "I will remove the unnecessary columns which I think would not be useful for detecting the gender using tweets."
   ]
  },
  {
   "cell_type": "code",
   "execution_count": 20,
   "metadata": {},
   "outputs": [
    {
     "name": "stdout",
     "output_type": "stream",
     "text": [
      "female    5367\n",
      "male      4653\n",
      "brand     3784\n",
      "Name: gender, dtype: int64\n",
      "<class 'pandas.core.frame.DataFrame'>\n",
      "Int64Index: 13804 entries, 0 to 20049\n",
      "Data columns (total 12 columns):\n",
      "gender                   13804 non-null object\n",
      "gender:confidence        13804 non-null float64\n",
      "profile_yn               13804 non-null object\n",
      "profile_yn:confidence    13804 non-null float64\n",
      "description              11773 non-null object\n",
      "fav_number               13804 non-null int64\n",
      "link_color               13804 non-null object\n",
      "name                     13804 non-null object\n",
      "retweet_count            13804 non-null int64\n",
      "sidebar_color            13804 non-null object\n",
      "text                     13804 non-null object\n",
      "tweet_count              13804 non-null int64\n",
      "dtypes: float64(2), int64(3), object(7)\n",
      "memory usage: 1.4+ MB\n"
     ]
    }
   ],
   "source": [
    "sub_df.drop(columns = ['_golden','_unit_state','_trusted_judgments','gender_gold'], inplace = True)\n",
    "print(sub_df['gender'].value_counts())\n",
    "sub_df.info()"
   ]
  },
  {
   "cell_type": "code",
   "execution_count": 21,
   "metadata": {},
   "outputs": [
    {
     "data": {
      "text/html": [
       "<div>\n",
       "<style scoped>\n",
       "    .dataframe tbody tr th:only-of-type {\n",
       "        vertical-align: middle;\n",
       "    }\n",
       "\n",
       "    .dataframe tbody tr th {\n",
       "        vertical-align: top;\n",
       "    }\n",
       "\n",
       "    .dataframe thead th {\n",
       "        text-align: right;\n",
       "    }\n",
       "</style>\n",
       "<table border=\"1\" class=\"dataframe\">\n",
       "  <thead>\n",
       "    <tr style=\"text-align: right;\">\n",
       "      <th></th>\n",
       "      <th>description</th>\n",
       "      <th>text</th>\n",
       "    </tr>\n",
       "  </thead>\n",
       "  <tbody>\n",
       "    <tr>\n",
       "      <td>0</td>\n",
       "      <td>i sing my own rhythm.</td>\n",
       "      <td>Robbie E Responds To Critics After Win Against...</td>\n",
       "    </tr>\n",
       "    <tr>\n",
       "      <td>1</td>\n",
       "      <td>I'm the author of novels filled with family dr...</td>\n",
       "      <td>ÛÏIt felt like they were my friends and I was...</td>\n",
       "    </tr>\n",
       "    <tr>\n",
       "      <td>3</td>\n",
       "      <td>Mobile guy.  49ers, Shazam, Google, Kleiner Pe...</td>\n",
       "      <td>Hi @JordanSpieth - Looking at the url - do you...</td>\n",
       "    </tr>\n",
       "    <tr>\n",
       "      <td>4</td>\n",
       "      <td>Ricky Wilson The Best FRONTMAN/Kaiser Chiefs T...</td>\n",
       "      <td>Watching Neighbours on Sky+ catching up with t...</td>\n",
       "    </tr>\n",
       "    <tr>\n",
       "      <td>5</td>\n",
       "      <td>you don't know me.</td>\n",
       "      <td>Ive seen people on the train with lamps, chair...</td>\n",
       "    </tr>\n",
       "    <tr>\n",
       "      <td>...</td>\n",
       "      <td>...</td>\n",
       "      <td>...</td>\n",
       "    </tr>\n",
       "    <tr>\n",
       "      <td>20044</td>\n",
       "      <td>I Love Me...Myself....&amp;....I</td>\n",
       "      <td>Need A Ride Home From Practice _Ù÷Ô_Ù÷Ô_Ù÷ÔAnd...</td>\n",
       "    </tr>\n",
       "    <tr>\n",
       "      <td>20045</td>\n",
       "      <td>(rp)</td>\n",
       "      <td>@lookupondeath ...Fine, and I'll drink tea too...</td>\n",
       "    </tr>\n",
       "    <tr>\n",
       "      <td>20046</td>\n",
       "      <td>Whatever you like, it's not a problem at all. ...</td>\n",
       "      <td>Greg Hardy you a good player and all but don't...</td>\n",
       "    </tr>\n",
       "    <tr>\n",
       "      <td>20047</td>\n",
       "      <td>#TeamBarcelona ..You look lost so you should f...</td>\n",
       "      <td>You can miss people and still never want to se...</td>\n",
       "    </tr>\n",
       "    <tr>\n",
       "      <td>20049</td>\n",
       "      <td>Teamwork makes the dream work.</td>\n",
       "      <td>I think for my APUSH creative project I'm goin...</td>\n",
       "    </tr>\n",
       "  </tbody>\n",
       "</table>\n",
       "<p>13804 rows × 2 columns</p>\n",
       "</div>"
      ],
      "text/plain": [
       "                                             description  \\\n",
       "0                                  i sing my own rhythm.   \n",
       "1      I'm the author of novels filled with family dr...   \n",
       "3      Mobile guy.  49ers, Shazam, Google, Kleiner Pe...   \n",
       "4      Ricky Wilson The Best FRONTMAN/Kaiser Chiefs T...   \n",
       "5                                     you don't know me.   \n",
       "...                                                  ...   \n",
       "20044                       I Love Me...Myself....&....I   \n",
       "20045                                               (rp)   \n",
       "20046  Whatever you like, it's not a problem at all. ...   \n",
       "20047  #TeamBarcelona ..You look lost so you should f...   \n",
       "20049                     Teamwork makes the dream work.   \n",
       "\n",
       "                                                    text  \n",
       "0      Robbie E Responds To Critics After Win Against...  \n",
       "1      ÛÏIt felt like they were my friends and I was...  \n",
       "3      Hi @JordanSpieth - Looking at the url - do you...  \n",
       "4      Watching Neighbours on Sky+ catching up with t...  \n",
       "5      Ive seen people on the train with lamps, chair...  \n",
       "...                                                  ...  \n",
       "20044  Need A Ride Home From Practice _Ù÷Ô_Ù÷Ô_Ù÷ÔAnd...  \n",
       "20045  @lookupondeath ...Fine, and I'll drink tea too...  \n",
       "20046  Greg Hardy you a good player and all but don't...  \n",
       "20047  You can miss people and still never want to se...  \n",
       "20049  I think for my APUSH creative project I'm goin...  \n",
       "\n",
       "[13804 rows x 2 columns]"
      ]
     },
     "execution_count": 21,
     "metadata": {},
     "output_type": "execute_result"
    }
   ],
   "source": [
    "sub_df[['description', 'text']]"
   ]
  },
  {
   "cell_type": "markdown",
   "metadata": {},
   "source": [
    "### 2.1 Manipulating text data"
   ]
  },
  {
   "cell_type": "markdown",
   "metadata": {},
   "source": [
    "We now need to somehow manipulate the text data for our data to preprocess and be useful for our models later. NLP contains a library called NLTK. It stands for Natural Language Toolkit. This toolkit is one of the most powerful NLP libraries which contains packages to make machines understand human language and reply to it with an appropriate response. Tokenization, Stemming, Lemmatization, Punctuation, Character count, word count are some of these packages present. We will now try to apply some of the methods for our text to be useful.\n",
    "\n",
    "First, we will download the nltk stopwords and some other modules required."
   ]
  },
  {
   "cell_type": "code",
   "execution_count": 22,
   "metadata": {},
   "outputs": [
    {
     "name": "stderr",
     "output_type": "stream",
     "text": [
      "[nltk_data] Downloading package stopwords to\n",
      "[nltk_data]     C:\\Users\\Ravi\\AppData\\Roaming\\nltk_data...\n",
      "[nltk_data]   Package stopwords is already up-to-date!\n"
     ]
    },
    {
     "data": {
      "text/plain": [
       "True"
      ]
     },
     "execution_count": 22,
     "metadata": {},
     "output_type": "execute_result"
    }
   ],
   "source": [
    "import nltk\n",
    "nltk.download('stopwords')"
   ]
  },
  {
   "cell_type": "code",
   "execution_count": 23,
   "metadata": {},
   "outputs": [
    {
     "name": "stderr",
     "output_type": "stream",
     "text": [
      "[nltk_data] Downloading package punkt to\n",
      "[nltk_data]     C:\\Users\\Ravi\\AppData\\Roaming\\nltk_data...\n",
      "[nltk_data]   Package punkt is already up-to-date!\n"
     ]
    },
    {
     "data": {
      "text/plain": [
       "True"
      ]
     },
     "execution_count": 23,
     "metadata": {},
     "output_type": "execute_result"
    }
   ],
   "source": [
    "nltk.download('punkt')"
   ]
  },
  {
   "cell_type": "code",
   "execution_count": 24,
   "metadata": {},
   "outputs": [
    {
     "name": "stderr",
     "output_type": "stream",
     "text": [
      "[nltk_data] Downloading package wordnet to\n",
      "[nltk_data]     C:\\Users\\Ravi\\AppData\\Roaming\\nltk_data...\n",
      "[nltk_data]   Package wordnet is already up-to-date!\n"
     ]
    },
    {
     "data": {
      "text/plain": [
       "True"
      ]
     },
     "execution_count": 24,
     "metadata": {},
     "output_type": "execute_result"
    }
   ],
   "source": [
    "nltk.download('wordnet')"
   ]
  },
  {
   "cell_type": "markdown",
   "metadata": {},
   "source": [
    "We can first check the most common words in both the description and the text columns"
   ]
  },
  {
   "cell_type": "code",
   "execution_count": 25,
   "metadata": {},
   "outputs": [
    {
     "data": {
      "text/plain": [
       "[('the', 8370),\n",
       " ('and', 7964),\n",
       " ('to', 4196),\n",
       " ('I', 3229),\n",
       " ('a', 3064),\n",
       " ('of', 2741),\n",
       " ('in', 2270),\n",
       " ('you', 2173),\n",
       " ('for', 2157),\n",
       " ('The', 2018),\n",
       " ('is', 1878),\n",
       " ('on', 1621),\n",
       " ('my', 1362),\n",
       " ('it', 1205),\n",
       " ('', 1184),\n",
       " ('with', 1156),\n",
       " ('Weather', 1074),\n",
       " ('that', 1032),\n",
       " ('from', 1022),\n",
       " ('me', 1001)]"
      ]
     },
     "execution_count": 25,
     "metadata": {},
     "output_type": "execute_result"
    }
   ],
   "source": [
    "from collections import Counter\n",
    "\n",
    "twit_word = Counter()\n",
    "for twit in sub_df['text']:\n",
    "    for word in twit.split(' '):\n",
    "        twit_word[word] += 1\n",
    "\n",
    "most_common_words= twit_word.most_common(20)\n",
    "most_common_words"
   ]
  },
  {
   "cell_type": "code",
   "execution_count": 26,
   "metadata": {},
   "outputs": [
    {
     "data": {
      "text/html": [
       "<div>\n",
       "<style scoped>\n",
       "    .dataframe tbody tr th:only-of-type {\n",
       "        vertical-align: middle;\n",
       "    }\n",
       "\n",
       "    .dataframe tbody tr th {\n",
       "        vertical-align: top;\n",
       "    }\n",
       "\n",
       "    .dataframe thead th {\n",
       "        text-align: right;\n",
       "    }\n",
       "</style>\n",
       "<table border=\"1\" class=\"dataframe\">\n",
       "  <thead>\n",
       "    <tr style=\"text-align: right;\">\n",
       "      <th></th>\n",
       "      <th>common_words</th>\n",
       "      <th>count</th>\n",
       "    </tr>\n",
       "  </thead>\n",
       "  <tbody>\n",
       "    <tr>\n",
       "      <td>19</td>\n",
       "      <td>me</td>\n",
       "      <td>1001</td>\n",
       "    </tr>\n",
       "    <tr>\n",
       "      <td>18</td>\n",
       "      <td>from</td>\n",
       "      <td>1022</td>\n",
       "    </tr>\n",
       "    <tr>\n",
       "      <td>17</td>\n",
       "      <td>that</td>\n",
       "      <td>1032</td>\n",
       "    </tr>\n",
       "    <tr>\n",
       "      <td>16</td>\n",
       "      <td>Weather</td>\n",
       "      <td>1074</td>\n",
       "    </tr>\n",
       "    <tr>\n",
       "      <td>15</td>\n",
       "      <td>with</td>\n",
       "      <td>1156</td>\n",
       "    </tr>\n",
       "    <tr>\n",
       "      <td>14</td>\n",
       "      <td></td>\n",
       "      <td>1184</td>\n",
       "    </tr>\n",
       "    <tr>\n",
       "      <td>13</td>\n",
       "      <td>it</td>\n",
       "      <td>1205</td>\n",
       "    </tr>\n",
       "    <tr>\n",
       "      <td>12</td>\n",
       "      <td>my</td>\n",
       "      <td>1362</td>\n",
       "    </tr>\n",
       "    <tr>\n",
       "      <td>11</td>\n",
       "      <td>on</td>\n",
       "      <td>1621</td>\n",
       "    </tr>\n",
       "    <tr>\n",
       "      <td>10</td>\n",
       "      <td>is</td>\n",
       "      <td>1878</td>\n",
       "    </tr>\n",
       "    <tr>\n",
       "      <td>9</td>\n",
       "      <td>The</td>\n",
       "      <td>2018</td>\n",
       "    </tr>\n",
       "    <tr>\n",
       "      <td>8</td>\n",
       "      <td>for</td>\n",
       "      <td>2157</td>\n",
       "    </tr>\n",
       "    <tr>\n",
       "      <td>7</td>\n",
       "      <td>you</td>\n",
       "      <td>2173</td>\n",
       "    </tr>\n",
       "    <tr>\n",
       "      <td>6</td>\n",
       "      <td>in</td>\n",
       "      <td>2270</td>\n",
       "    </tr>\n",
       "    <tr>\n",
       "      <td>5</td>\n",
       "      <td>of</td>\n",
       "      <td>2741</td>\n",
       "    </tr>\n",
       "    <tr>\n",
       "      <td>4</td>\n",
       "      <td>a</td>\n",
       "      <td>3064</td>\n",
       "    </tr>\n",
       "    <tr>\n",
       "      <td>3</td>\n",
       "      <td>I</td>\n",
       "      <td>3229</td>\n",
       "    </tr>\n",
       "    <tr>\n",
       "      <td>2</td>\n",
       "      <td>to</td>\n",
       "      <td>4196</td>\n",
       "    </tr>\n",
       "    <tr>\n",
       "      <td>1</td>\n",
       "      <td>and</td>\n",
       "      <td>7964</td>\n",
       "    </tr>\n",
       "    <tr>\n",
       "      <td>0</td>\n",
       "      <td>the</td>\n",
       "      <td>8370</td>\n",
       "    </tr>\n",
       "  </tbody>\n",
       "</table>\n",
       "</div>"
      ],
      "text/plain": [
       "   common_words  count\n",
       "19           me   1001\n",
       "18         from   1022\n",
       "17         that   1032\n",
       "16      Weather   1074\n",
       "15         with   1156\n",
       "14                1184\n",
       "13           it   1205\n",
       "12           my   1362\n",
       "11           on   1621\n",
       "10           is   1878\n",
       "9           The   2018\n",
       "8           for   2157\n",
       "7           you   2173\n",
       "6            in   2270\n",
       "5            of   2741\n",
       "4             a   3064\n",
       "3             I   3229\n",
       "2            to   4196\n",
       "1           and   7964\n",
       "0           the   8370"
      ]
     },
     "execution_count": 26,
     "metadata": {},
     "output_type": "execute_result"
    }
   ],
   "source": [
    "most_common_words_df = pd.DataFrame(most_common_words, columns = ['common_words', 'count']).sort_values(by=['count'], ascending=True)\n",
    "most_common_words_df"
   ]
  },
  {
   "cell_type": "code",
   "execution_count": 27,
   "metadata": {},
   "outputs": [
    {
     "data": {
      "text/plain": [
       "Text(0.5, 0, 'count')"
      ]
     },
     "execution_count": 27,
     "metadata": {},
     "output_type": "execute_result"
    },
    {
     "data": {
      "image/png": "[encoded data removed]",
      "text/plain": [
       "<Figure size 864x576 with 1 Axes>"
      ]
     },
     "metadata": {
      "needs_background": "light"
     },
     "output_type": "display_data"
    }
   ],
   "source": [
    "most_common_words_df.plot(x='common_words', y='count', kind='barh', figsize = (12,8), legend=False, title= 'Counts of most Frequently used words')\n",
    "plt.xlabel('count')"
   ]
  },
  {
   "cell_type": "code",
   "execution_count": 28,
   "metadata": {},
   "outputs": [
    {
     "name": "stdout",
     "output_type": "stream",
     "text": [
      "<class 'pandas.core.frame.DataFrame'>\n",
      "Int64Index: 13804 entries, 0 to 20049\n",
      "Data columns (total 12 columns):\n",
      "gender                   13804 non-null object\n",
      "gender:confidence        13804 non-null float64\n",
      "profile_yn               13804 non-null object\n",
      "profile_yn:confidence    13804 non-null float64\n",
      "description              11773 non-null object\n",
      "fav_number               13804 non-null int64\n",
      "link_color               13804 non-null object\n",
      "name                     13804 non-null object\n",
      "retweet_count            13804 non-null int64\n",
      "sidebar_color            13804 non-null object\n",
      "text                     13804 non-null object\n",
      "tweet_count              13804 non-null int64\n",
      "dtypes: float64(2), int64(3), object(7)\n",
      "memory usage: 1.4+ MB\n"
     ]
    }
   ],
   "source": [
    "sub_df.info()"
   ]
  },
  {
   "cell_type": "code",
   "execution_count": 29,
   "metadata": {},
   "outputs": [
    {
     "data": {
      "text/plain": [
       "False    13804\n",
       "Name: Tweets, dtype: int64"
      ]
     },
     "execution_count": 29,
     "metadata": {},
     "output_type": "execute_result"
    }
   ],
   "source": [
    "#Fill NaN with empty string\n",
    "sub_df.fillna(\"\", inplace = True)\n",
    "\n",
    "# Concatenate text with description, add white space between. \n",
    "# By using Series helper functions Series.str()\n",
    "sub_df['Tweets'] = sub_df['text'].str.cat(sub_df['description'], sep=' ')\n",
    "\n",
    "sub_df['Tweets'].isnull().value_counts() # Check if any null values, True if there is at least one."
   ]
  },
  {
   "cell_type": "code",
   "execution_count": 30,
   "metadata": {},
   "outputs": [
    {
     "data": {
      "text/plain": [
       "0    Robbie E Responds To Critics After Win Against...\n",
       "1    ÛÏIt felt like they were my friends and I was...\n",
       "3    Hi @JordanSpieth - Looking at the url - do you...\n",
       "Name: Tweets, dtype: object"
      ]
     },
     "execution_count": 30,
     "metadata": {},
     "output_type": "execute_result"
    }
   ],
   "source": [
    "sub_df['Tweets'][:3]"
   ]
  },
  {
   "cell_type": "markdown",
   "metadata": {},
   "source": [
    "#### a. Removing Stopwords and applying Lemmatization"
   ]
  },
  {
   "cell_type": "markdown",
   "metadata": {},
   "source": [
    "A stop word is a commonly used word (such as “the”, “a”, “an”, “in”) that a search engine has been programmed to ignore. In natural language processing, useless words (data), are referred to as stop words. \n",
    "\n",
    "Lemmatization is also stemming but produces results which are all valid words.\n",
    "\n",
    "Also, a regular expression is used below to specify a set of strings that matches it; tthey allow to check if a particular string matches a given regular expression. Now let us perform these operations"
   ]
  },
  {
   "cell_type": "code",
   "execution_count": 31,
   "metadata": {},
   "outputs": [],
   "source": [
    "import re\n",
    "from nltk.corpus import stopwords\n",
    "from nltk.stem import WordNetLemmatizer\n",
    "lemma= WordNetLemmatizer() \n",
    "\n",
    "def cleaning(s):\n",
    "    # regex to clean unnecesarry chars\n",
    "    s = re.sub(\"[^a-zA-Z]\",\" \", str(s))\n",
    "    s = re.sub('\\s\\W',' ',str(s))\n",
    "    s = re.sub('\\W,\\s',' ',str(s))\n",
    "    s = re.sub(r'[^\\w]', ' ', str(s))\n",
    "    s = re.sub(\"\\d+\", \"\", str(s))\n",
    "    s = re.sub('\\s+',' ',str(s))\n",
    "    s = re.sub('[!@#$_]', '', str(s))\n",
    "    s = s.replace(\"co\",\"\")\n",
    "    s = s.replace(\"http\",\"\")\n",
    "    s = s.replace(\",\",\"\")\n",
    "    s = s.replace(\"[\\w*\",\" \")\n",
    "    s = s.lower()  # convert all to lowercase                                                             \n",
    "    s = nltk.word_tokenize(s)  # split all by tokenizing the words into tokens                                                 \n",
    "    s = [word for word in s if not word in set(stopwords.words(\"english\"))]    # delete stop words from the array\n",
    "    s = [lemma.lemmatize(word) for word in s]      # lemmatize \"memories\" -> \"memory\"\n",
    "    s = \" \".join(s) # make them one string again\n",
    "    return s\n",
    "\n",
    "sub_df['Tweets'] = [cleaning(s) for s in sub_df['Tweets']]"
   ]
  },
  {
   "cell_type": "code",
   "execution_count": 32,
   "metadata": {},
   "outputs": [
    {
     "data": {
      "text/plain": [
       "0        robbie e responds critic win eddie edward worl...\n",
       "1        felt like friend living story arnge yhno retir...\n",
       "3        hi jordanspieth looking url use ifttt typicall...\n",
       "4        watching neighbour sky catching neighbs xxx xx...\n",
       "5        ive seen people train lamp chair tv etc w zf p...\n",
       "                               ...                        \n",
       "20044        need ride home practice raining hard asf love\n",
       "20045                 lookupondeath fine drink tea love rp\n",
       "20046    greg hardy good player get face dez bryant lea...\n",
       "20047    miss people still never want see teambarcelona...\n",
       "20049    think apush creative project going bring ban c...\n",
       "Name: Tweets, Length: 13804, dtype: object"
      ]
     },
     "execution_count": 32,
     "metadata": {},
     "output_type": "execute_result"
    }
   ],
   "source": [
    "sub_df['Tweets']"
   ]
  },
  {
   "cell_type": "code",
   "execution_count": 33,
   "metadata": {},
   "outputs": [
    {
     "data": {
      "text/plain": [
       "[('get', 1516),\n",
       " ('love', 1310),\n",
       " ('weather', 1128),\n",
       " ('like', 1077),\n",
       " ('u', 1019),\n",
       " ('one', 901),\n",
       " ('life', 872),\n",
       " ('time', 821),\n",
       " ('day', 741),\n",
       " ('news', 740),\n",
       " ('new', 734),\n",
       " ('update', 715),\n",
       " ('make', 692),\n",
       " ('channel', 621),\n",
       " ('best', 617),\n",
       " ('go', 604),\n",
       " ('people', 597),\n",
       " ('world', 585),\n",
       " ('know', 550),\n",
       " ('music', 547)]"
      ]
     },
     "execution_count": 33,
     "metadata": {},
     "output_type": "execute_result"
    }
   ],
   "source": [
    "# Counter: Useful in counting the most common words in a text. This is counting from 'Tweets' column\n",
    "tweet_list = Counter()\n",
    "for tweet in sub_df['Tweets']:\n",
    "    for words in tweet.split(' '):\n",
    "        tweet_list[words] += 1\n",
    "\n",
    "common_words= tweet_list.most_common(20)\n",
    "common_words"
   ]
  },
  {
   "cell_type": "code",
   "execution_count": 34,
   "metadata": {},
   "outputs": [],
   "source": [
    "# Removing duplicate words in a sentence/string if any. Code is taken from  https://stackoverflow.com/questions/47316783/python-dataframe-remove-duplicate-words-in-the-same-cell-within-a-column-in-pyt\n",
    "from collections import OrderedDict\n",
    "\n",
    "sub_df['Tweets_cleaned'] = (sub_df['Tweets'].str.split()\n",
    "                              .apply(lambda x: OrderedDict.fromkeys(x).keys())\n",
    "                              .str.join(' '))"
   ]
  },
  {
   "cell_type": "code",
   "execution_count": 35,
   "metadata": {},
   "outputs": [
    {
     "data": {
      "text/plain": [
       "[('get', 1453),\n",
       " ('love', 1128),\n",
       " ('like', 985),\n",
       " ('u', 895),\n",
       " ('one', 844),\n",
       " ('life', 815),\n",
       " ('time', 758),\n",
       " ('new', 699),\n",
       " ('day', 687),\n",
       " ('make', 662),\n",
       " ('news', 650),\n",
       " ('update', 643),\n",
       " ('channel', 620),\n",
       " ('best', 581),\n",
       " ('weather', 576),\n",
       " ('go', 572),\n",
       " ('world', 560),\n",
       " ('people', 549),\n",
       " ('know', 515),\n",
       " ('thing', 507)]"
      ]
     },
     "execution_count": 35,
     "metadata": {},
     "output_type": "execute_result"
    }
   ],
   "source": [
    "# Counter: Useful in counting the most common words in a text. This is counting from 'Tweets_cleaned' column.\n",
    "tweet_list = Counter()\n",
    "for tweet in sub_df['Tweets_cleaned']:\n",
    "    for words in tweet.split(' '):\n",
    "        tweet_list[words] += 1\n",
    "\n",
    "common_words= tweet_list.most_common(20)\n",
    "common_words"
   ]
  },
  {
   "cell_type": "code",
   "execution_count": 36,
   "metadata": {},
   "outputs": [
    {
     "data": {
      "text/plain": [
       "0        robbie e responds critic win eddie edward worl...\n",
       "1        felt like friend living story arnge yhno retir...\n",
       "3        hi jordanspieth looking url use ifttt typicall...\n",
       "4        watching neighbour sky catching neighbs xxx ri...\n",
       "5        ive seen people train lamp chair tv etc w zf p...\n",
       "                               ...                        \n",
       "20044        need ride home practice raining hard asf love\n",
       "20045                 lookupondeath fine drink tea love rp\n",
       "20046    greg hardy good player get face dez bryant lea...\n",
       "20047    miss people still never want see teambarcelona...\n",
       "20049    think apush creative project going bring ban c...\n",
       "Name: Tweets_cleaned, Length: 13804, dtype: object"
      ]
     },
     "execution_count": 36,
     "metadata": {},
     "output_type": "execute_result"
    }
   ],
   "source": [
    "sub_df['Tweets_cleaned']"
   ]
  },
  {
   "cell_type": "code",
   "execution_count": 37,
   "metadata": {},
   "outputs": [
    {
     "data": {
      "text/html": [
       "<div>\n",
       "<style scoped>\n",
       "    .dataframe tbody tr th:only-of-type {\n",
       "        vertical-align: middle;\n",
       "    }\n",
       "\n",
       "    .dataframe tbody tr th {\n",
       "        vertical-align: top;\n",
       "    }\n",
       "\n",
       "    .dataframe thead th {\n",
       "        text-align: right;\n",
       "    }\n",
       "</style>\n",
       "<table border=\"1\" class=\"dataframe\">\n",
       "  <thead>\n",
       "    <tr style=\"text-align: right;\">\n",
       "      <th></th>\n",
       "      <th>common_words</th>\n",
       "      <th>count</th>\n",
       "    </tr>\n",
       "  </thead>\n",
       "  <tbody>\n",
       "    <tr>\n",
       "      <td>19</td>\n",
       "      <td>thing</td>\n",
       "      <td>507</td>\n",
       "    </tr>\n",
       "    <tr>\n",
       "      <td>18</td>\n",
       "      <td>know</td>\n",
       "      <td>515</td>\n",
       "    </tr>\n",
       "    <tr>\n",
       "      <td>17</td>\n",
       "      <td>people</td>\n",
       "      <td>549</td>\n",
       "    </tr>\n",
       "    <tr>\n",
       "      <td>16</td>\n",
       "      <td>world</td>\n",
       "      <td>560</td>\n",
       "    </tr>\n",
       "    <tr>\n",
       "      <td>15</td>\n",
       "      <td>go</td>\n",
       "      <td>572</td>\n",
       "    </tr>\n",
       "    <tr>\n",
       "      <td>14</td>\n",
       "      <td>weather</td>\n",
       "      <td>576</td>\n",
       "    </tr>\n",
       "    <tr>\n",
       "      <td>13</td>\n",
       "      <td>best</td>\n",
       "      <td>581</td>\n",
       "    </tr>\n",
       "    <tr>\n",
       "      <td>12</td>\n",
       "      <td>channel</td>\n",
       "      <td>620</td>\n",
       "    </tr>\n",
       "    <tr>\n",
       "      <td>11</td>\n",
       "      <td>update</td>\n",
       "      <td>643</td>\n",
       "    </tr>\n",
       "    <tr>\n",
       "      <td>10</td>\n",
       "      <td>news</td>\n",
       "      <td>650</td>\n",
       "    </tr>\n",
       "    <tr>\n",
       "      <td>9</td>\n",
       "      <td>make</td>\n",
       "      <td>662</td>\n",
       "    </tr>\n",
       "    <tr>\n",
       "      <td>8</td>\n",
       "      <td>day</td>\n",
       "      <td>687</td>\n",
       "    </tr>\n",
       "    <tr>\n",
       "      <td>7</td>\n",
       "      <td>new</td>\n",
       "      <td>699</td>\n",
       "    </tr>\n",
       "    <tr>\n",
       "      <td>6</td>\n",
       "      <td>time</td>\n",
       "      <td>758</td>\n",
       "    </tr>\n",
       "    <tr>\n",
       "      <td>5</td>\n",
       "      <td>life</td>\n",
       "      <td>815</td>\n",
       "    </tr>\n",
       "    <tr>\n",
       "      <td>4</td>\n",
       "      <td>one</td>\n",
       "      <td>844</td>\n",
       "    </tr>\n",
       "    <tr>\n",
       "      <td>3</td>\n",
       "      <td>u</td>\n",
       "      <td>895</td>\n",
       "    </tr>\n",
       "    <tr>\n",
       "      <td>2</td>\n",
       "      <td>like</td>\n",
       "      <td>985</td>\n",
       "    </tr>\n",
       "    <tr>\n",
       "      <td>1</td>\n",
       "      <td>love</td>\n",
       "      <td>1128</td>\n",
       "    </tr>\n",
       "    <tr>\n",
       "      <td>0</td>\n",
       "      <td>get</td>\n",
       "      <td>1453</td>\n",
       "    </tr>\n",
       "  </tbody>\n",
       "</table>\n",
       "</div>"
      ],
      "text/plain": [
       "   common_words  count\n",
       "19        thing    507\n",
       "18         know    515\n",
       "17       people    549\n",
       "16        world    560\n",
       "15           go    572\n",
       "14      weather    576\n",
       "13         best    581\n",
       "12      channel    620\n",
       "11       update    643\n",
       "10         news    650\n",
       "9          make    662\n",
       "8           day    687\n",
       "7           new    699\n",
       "6          time    758\n",
       "5          life    815\n",
       "4           one    844\n",
       "3             u    895\n",
       "2          like    985\n",
       "1          love   1128\n",
       "0           get   1453"
      ]
     },
     "execution_count": 37,
     "metadata": {},
     "output_type": "execute_result"
    }
   ],
   "source": [
    "common_words_df = pd.DataFrame(common_words, columns = ['common_words', 'count']).sort_values(by=['count'], ascending=True)\n",
    "common_words_df"
   ]
  },
  {
   "cell_type": "code",
   "execution_count": 38,
   "metadata": {},
   "outputs": [
    {
     "data": {
      "text/plain": [
       "Text(0.5, 0, 'count')"
      ]
     },
     "execution_count": 38,
     "metadata": {},
     "output_type": "execute_result"
    },
    {
     "data": {
      "image/png": "[encoded data removed]",
      "text/plain": [
       "<Figure size 864x576 with 1 Axes>"
      ]
     },
     "metadata": {
      "needs_background": "light"
     },
     "output_type": "display_data"
    }
   ],
   "source": [
    "common_words_df.plot(x='common_words', y='count', kind='barh', figsize = (12,8), legend=False, title= 'Counts of top Frequently used words')\n",
    "plt.xlabel('count')"
   ]
  },
  {
   "cell_type": "markdown",
   "metadata": {},
   "source": [
    "#### b. Generating a WordCloud"
   ]
  },
  {
   "cell_type": "markdown",
   "metadata": {},
   "source": [
    "Ususally, whenever we deal with NLP or text, we see a cloud filled with lots of words in different sizes, which represent the frequency or the importance of each word. Wordcloud is the exact representation of this. It is a data Visualization technique used for text analysis. Let us now try it on our dataset."
   ]
  },
  {
   "cell_type": "code",
   "execution_count": 39,
   "metadata": {},
   "outputs": [
    {
     "data": {
      "image/png": "[encoded data removed]",
      "text/plain": [
       "<Figure size 432x288 with 1 Axes>"
      ]
     },
     "metadata": {
      "needs_background": "light"
     },
     "output_type": "display_data"
    }
   ],
   "source": [
    "# Generating a word cloud of frequency of text\n",
    "from wordcloud import WordCloud\n",
    "wordcloud = WordCloud(background_color=\"white\", width=1500, height=1000).generate(''.join(sub_df['Tweets_cleaned']))\n",
    "plt.imshow(wordcloud, interpolation='bilinear')\n",
    "plt.axis(\"off\")\n",
    "plt.show()"
   ]
  },
  {
   "cell_type": "markdown",
   "metadata": {},
   "source": [
    "From the image, we now see that the words new, love, life, one etc.. are displayed in a large font, meaning that these words occur very frequently and the frequency for these words is more."
   ]
  },
  {
   "cell_type": "markdown",
   "metadata": {},
   "source": [
    "#### c. Gender Tweets"
   ]
  },
  {
   "cell_type": "markdown",
   "metadata": {},
   "source": [
    "Let us now try to look at the gender tweet counts on how many male tweet word counts are present and how many female word tweets. This is for visualization purpose."
   ]
  },
  {
   "cell_type": "code",
   "execution_count": 40,
   "metadata": {},
   "outputs": [
    {
     "data": {
      "text/plain": [
       "0          male\n",
       "1          male\n",
       "3          male\n",
       "4        female\n",
       "5        female\n",
       "          ...  \n",
       "20044    female\n",
       "20045    female\n",
       "20046      male\n",
       "20047      male\n",
       "20049    female\n",
       "Name: gender, Length: 13804, dtype: object"
      ]
     },
     "execution_count": 40,
     "metadata": {},
     "output_type": "execute_result"
    }
   ],
   "source": [
    "sub_df['gender']"
   ]
  },
  {
   "cell_type": "code",
   "execution_count": 41,
   "metadata": {},
   "outputs": [],
   "source": [
    "sub_df.gender.value_counts()\n",
    "male = sub_df[sub_df['gender'] == 'male']\n",
    "female = sub_df[sub_df['gender'] == 'female']\n",
    "male_words = pd.Series(' '.join(male['Tweets_cleaned'].astype(str)).lower().split(\" \")).value_counts()[:20]\n",
    "female_words = pd.Series(' '.join(female['Tweets_cleaned'].astype(str)).lower().split(\" \")).value_counts()[:20]\n",
    "male_words = male_words.iloc[1:]\n",
    "female_words = female_words.iloc[1:]"
   ]
  },
  {
   "cell_type": "code",
   "execution_count": 42,
   "metadata": {},
   "outputs": [
    {
     "data": {
      "text/plain": [
       "<matplotlib.axes._subplots.AxesSubplot at 0x1b0708e2708>"
      ]
     },
     "execution_count": 42,
     "metadata": {},
     "output_type": "execute_result"
    },
    {
     "data": {
      "image/png": "[encoded data removed]",
      "text/plain": [
       "<Figure size 432x288 with 1 Axes>"
      ]
     },
     "metadata": {},
     "output_type": "display_data"
    }
   ],
   "source": [
    "fig = plt.figure()\n",
    "fig.patch.set_facecolor('white')\n",
    "plt.title(\"Female Tweet Word Count\")\n",
    "plt.xlabel(\"Tweet Word\")\n",
    "plt.ylabel(\"Count\")\n",
    "female_words.plot(kind='bar', color=\"green\")"
   ]
  },
  {
   "cell_type": "code",
   "execution_count": 43,
   "metadata": {},
   "outputs": [
    {
     "data": {
      "text/plain": [
       "<matplotlib.axes._subplots.AxesSubplot at 0x1b07090be08>"
      ]
     },
     "execution_count": 43,
     "metadata": {},
     "output_type": "execute_result"
    },
    {
     "data": {
      "image/png": "[encoded data removed]",
      "text/plain": [
       "<Figure size 432x288 with 1 Axes>"
      ]
     },
     "metadata": {},
     "output_type": "display_data"
    }
   ],
   "source": [
    "fig = plt.figure()\n",
    "fig.patch.set_facecolor('white')\n",
    "plt.title(\"Male Tweet Word Count\")\n",
    "plt.xlabel(\"Tweet Word\")\n",
    "plt.ylabel(\"Count\")\n",
    "male_words.plot(kind='bar', color=\"blue\")"
   ]
  },
  {
   "cell_type": "code",
   "execution_count": null,
   "metadata": {},
   "outputs": [],
   "source": []
  }
 ],
 "metadata": {
  "kernelspec": {
   "display_name": "Python 3",
   "language": "python",
   "name": "python3"
  },
  "language_info": {
   "codemirror_mode": {
    "name": "ipython",
    "version": 3
   },
   "file_extension": ".py",
   "mimetype": "text/x-python",
   "name": "python",
   "nbconvert_exporter": "python",
   "pygments_lexer": "ipython3",
   "version": "3.7.4"
  }
 },
 "nbformat": 4,
 "nbformat_minor": 2
}
